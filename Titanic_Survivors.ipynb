{
 "cells": [
  {
   "cell_type": "code",
   "execution_count": 1,
   "metadata": {},
   "outputs": [],
   "source": [
    "# This is the sincere effort of Subhodeep, kindly don't copy."
   ]
  },
  {
   "cell_type": "code",
   "execution_count": 2,
   "metadata": {},
   "outputs": [],
   "source": [
    "# Data analysis\n",
    "import pandas as pd\n",
    "import numpy as np\n",
    "\n",
    "# Visualisation\n",
    "import matplotlib.pyplot as plt\n",
    "\n",
    "# ML tools\n",
    "from sklearn.ensemble import RandomForestClassifier"
   ]
  },
  {
   "cell_type": "code",
   "execution_count": 3,
   "metadata": {},
   "outputs": [],
   "source": [
    "#using pandas\n",
    "#training data\n",
    "train_ds = pd.read_csv('train.csv')\n",
    "\n",
    "#testing data\n",
    "test_ds = pd.read_csv('test.csv')"
   ]
  },
  {
   "cell_type": "code",
   "execution_count": 4,
   "metadata": {},
   "outputs": [],
   "source": [
    "#combine the above two pandas object into a list to do certain operations on both of them together.\n",
    "combined = [train_ds, test_ds]"
   ]
  },
  {
   "cell_type": "code",
   "execution_count": 5,
   "metadata": {},
   "outputs": [
    {
     "data": {
      "text/html": [
       "<div>\n",
       "<style scoped>\n",
       "    .dataframe tbody tr th:only-of-type {\n",
       "        vertical-align: middle;\n",
       "    }\n",
       "\n",
       "    .dataframe tbody tr th {\n",
       "        vertical-align: top;\n",
       "    }\n",
       "\n",
       "    .dataframe thead th {\n",
       "        text-align: right;\n",
       "    }\n",
       "</style>\n",
       "<table border=\"1\" class=\"dataframe\">\n",
       "  <thead>\n",
       "    <tr style=\"text-align: right;\">\n",
       "      <th></th>\n",
       "      <th>PassengerId</th>\n",
       "      <th>Survived</th>\n",
       "      <th>Pclass</th>\n",
       "      <th>Name</th>\n",
       "      <th>Sex</th>\n",
       "      <th>Age</th>\n",
       "      <th>SibSp</th>\n",
       "      <th>Parch</th>\n",
       "      <th>Ticket</th>\n",
       "      <th>Fare</th>\n",
       "      <th>Cabin</th>\n",
       "      <th>Embarked</th>\n",
       "    </tr>\n",
       "  </thead>\n",
       "  <tbody>\n",
       "    <tr>\n",
       "      <th>0</th>\n",
       "      <td>1</td>\n",
       "      <td>0</td>\n",
       "      <td>3</td>\n",
       "      <td>Braund, Mr. Owen Harris</td>\n",
       "      <td>male</td>\n",
       "      <td>22.0</td>\n",
       "      <td>1</td>\n",
       "      <td>0</td>\n",
       "      <td>A/5 21171</td>\n",
       "      <td>7.2500</td>\n",
       "      <td>NaN</td>\n",
       "      <td>S</td>\n",
       "    </tr>\n",
       "    <tr>\n",
       "      <th>1</th>\n",
       "      <td>2</td>\n",
       "      <td>1</td>\n",
       "      <td>1</td>\n",
       "      <td>Cumings, Mrs. John Bradley (Florence Briggs Th...</td>\n",
       "      <td>female</td>\n",
       "      <td>38.0</td>\n",
       "      <td>1</td>\n",
       "      <td>0</td>\n",
       "      <td>PC 17599</td>\n",
       "      <td>71.2833</td>\n",
       "      <td>C85</td>\n",
       "      <td>C</td>\n",
       "    </tr>\n",
       "    <tr>\n",
       "      <th>2</th>\n",
       "      <td>3</td>\n",
       "      <td>1</td>\n",
       "      <td>3</td>\n",
       "      <td>Heikkinen, Miss. Laina</td>\n",
       "      <td>female</td>\n",
       "      <td>26.0</td>\n",
       "      <td>0</td>\n",
       "      <td>0</td>\n",
       "      <td>STON/O2. 3101282</td>\n",
       "      <td>7.9250</td>\n",
       "      <td>NaN</td>\n",
       "      <td>S</td>\n",
       "    </tr>\n",
       "    <tr>\n",
       "      <th>3</th>\n",
       "      <td>4</td>\n",
       "      <td>1</td>\n",
       "      <td>1</td>\n",
       "      <td>Futrelle, Mrs. Jacques Heath (Lily May Peel)</td>\n",
       "      <td>female</td>\n",
       "      <td>35.0</td>\n",
       "      <td>1</td>\n",
       "      <td>0</td>\n",
       "      <td>113803</td>\n",
       "      <td>53.1000</td>\n",
       "      <td>C123</td>\n",
       "      <td>S</td>\n",
       "    </tr>\n",
       "    <tr>\n",
       "      <th>4</th>\n",
       "      <td>5</td>\n",
       "      <td>0</td>\n",
       "      <td>3</td>\n",
       "      <td>Allen, Mr. William Henry</td>\n",
       "      <td>male</td>\n",
       "      <td>35.0</td>\n",
       "      <td>0</td>\n",
       "      <td>0</td>\n",
       "      <td>373450</td>\n",
       "      <td>8.0500</td>\n",
       "      <td>NaN</td>\n",
       "      <td>S</td>\n",
       "    </tr>\n",
       "  </tbody>\n",
       "</table>\n",
       "</div>"
      ],
      "text/plain": [
       "   PassengerId  Survived  Pclass  \\\n",
       "0            1         0       3   \n",
       "1            2         1       1   \n",
       "2            3         1       3   \n",
       "3            4         1       1   \n",
       "4            5         0       3   \n",
       "\n",
       "                                                Name     Sex   Age  SibSp  \\\n",
       "0                            Braund, Mr. Owen Harris    male  22.0      1   \n",
       "1  Cumings, Mrs. John Bradley (Florence Briggs Th...  female  38.0      1   \n",
       "2                             Heikkinen, Miss. Laina  female  26.0      0   \n",
       "3       Futrelle, Mrs. Jacques Heath (Lily May Peel)  female  35.0      1   \n",
       "4                           Allen, Mr. William Henry    male  35.0      0   \n",
       "\n",
       "   Parch            Ticket     Fare Cabin Embarked  \n",
       "0      0         A/5 21171   7.2500   NaN        S  \n",
       "1      0          PC 17599  71.2833   C85        C  \n",
       "2      0  STON/O2. 3101282   7.9250   NaN        S  \n",
       "3      0            113803  53.1000  C123        S  \n",
       "4      0            373450   8.0500   NaN        S  "
      ]
     },
     "execution_count": 5,
     "metadata": {},
     "output_type": "execute_result"
    }
   ],
   "source": [
    "train_ds.head()"
   ]
  },
  {
   "cell_type": "code",
   "execution_count": 6,
   "metadata": {},
   "outputs": [
    {
     "data": {
      "text/html": [
       "<div>\n",
       "<style scoped>\n",
       "    .dataframe tbody tr th:only-of-type {\n",
       "        vertical-align: middle;\n",
       "    }\n",
       "\n",
       "    .dataframe tbody tr th {\n",
       "        vertical-align: top;\n",
       "    }\n",
       "\n",
       "    .dataframe thead th {\n",
       "        text-align: right;\n",
       "    }\n",
       "</style>\n",
       "<table border=\"1\" class=\"dataframe\">\n",
       "  <thead>\n",
       "    <tr style=\"text-align: right;\">\n",
       "      <th></th>\n",
       "      <th>PassengerId</th>\n",
       "      <th>Pclass</th>\n",
       "      <th>Name</th>\n",
       "      <th>Sex</th>\n",
       "      <th>Age</th>\n",
       "      <th>SibSp</th>\n",
       "      <th>Parch</th>\n",
       "      <th>Ticket</th>\n",
       "      <th>Fare</th>\n",
       "      <th>Cabin</th>\n",
       "      <th>Embarked</th>\n",
       "    </tr>\n",
       "  </thead>\n",
       "  <tbody>\n",
       "    <tr>\n",
       "      <th>413</th>\n",
       "      <td>1305</td>\n",
       "      <td>3</td>\n",
       "      <td>Spector, Mr. Woolf</td>\n",
       "      <td>male</td>\n",
       "      <td>NaN</td>\n",
       "      <td>0</td>\n",
       "      <td>0</td>\n",
       "      <td>A.5. 3236</td>\n",
       "      <td>8.0500</td>\n",
       "      <td>NaN</td>\n",
       "      <td>S</td>\n",
       "    </tr>\n",
       "    <tr>\n",
       "      <th>414</th>\n",
       "      <td>1306</td>\n",
       "      <td>1</td>\n",
       "      <td>Oliva y Ocana, Dona. Fermina</td>\n",
       "      <td>female</td>\n",
       "      <td>39.0</td>\n",
       "      <td>0</td>\n",
       "      <td>0</td>\n",
       "      <td>PC 17758</td>\n",
       "      <td>108.9000</td>\n",
       "      <td>C105</td>\n",
       "      <td>C</td>\n",
       "    </tr>\n",
       "    <tr>\n",
       "      <th>415</th>\n",
       "      <td>1307</td>\n",
       "      <td>3</td>\n",
       "      <td>Saether, Mr. Simon Sivertsen</td>\n",
       "      <td>male</td>\n",
       "      <td>38.5</td>\n",
       "      <td>0</td>\n",
       "      <td>0</td>\n",
       "      <td>SOTON/O.Q. 3101262</td>\n",
       "      <td>7.2500</td>\n",
       "      <td>NaN</td>\n",
       "      <td>S</td>\n",
       "    </tr>\n",
       "    <tr>\n",
       "      <th>416</th>\n",
       "      <td>1308</td>\n",
       "      <td>3</td>\n",
       "      <td>Ware, Mr. Frederick</td>\n",
       "      <td>male</td>\n",
       "      <td>NaN</td>\n",
       "      <td>0</td>\n",
       "      <td>0</td>\n",
       "      <td>359309</td>\n",
       "      <td>8.0500</td>\n",
       "      <td>NaN</td>\n",
       "      <td>S</td>\n",
       "    </tr>\n",
       "    <tr>\n",
       "      <th>417</th>\n",
       "      <td>1309</td>\n",
       "      <td>3</td>\n",
       "      <td>Peter, Master. Michael J</td>\n",
       "      <td>male</td>\n",
       "      <td>NaN</td>\n",
       "      <td>1</td>\n",
       "      <td>1</td>\n",
       "      <td>2668</td>\n",
       "      <td>22.3583</td>\n",
       "      <td>NaN</td>\n",
       "      <td>C</td>\n",
       "    </tr>\n",
       "  </tbody>\n",
       "</table>\n",
       "</div>"
      ],
      "text/plain": [
       "     PassengerId  Pclass                          Name     Sex   Age  SibSp  \\\n",
       "413         1305       3            Spector, Mr. Woolf    male   NaN      0   \n",
       "414         1306       1  Oliva y Ocana, Dona. Fermina  female  39.0      0   \n",
       "415         1307       3  Saether, Mr. Simon Sivertsen    male  38.5      0   \n",
       "416         1308       3           Ware, Mr. Frederick    male   NaN      0   \n",
       "417         1309       3      Peter, Master. Michael J    male   NaN      1   \n",
       "\n",
       "     Parch              Ticket      Fare Cabin Embarked  \n",
       "413      0           A.5. 3236    8.0500   NaN        S  \n",
       "414      0            PC 17758  108.9000  C105        C  \n",
       "415      0  SOTON/O.Q. 3101262    7.2500   NaN        S  \n",
       "416      0              359309    8.0500   NaN        S  \n",
       "417      1                2668   22.3583   NaN        C  "
      ]
     },
     "execution_count": 6,
     "metadata": {},
     "output_type": "execute_result"
    }
   ],
   "source": [
    "test_ds.tail()"
   ]
  },
  {
   "cell_type": "code",
   "execution_count": 7,
   "metadata": {},
   "outputs": [
    {
     "name": "stdout",
     "output_type": "stream",
     "text": [
      "<class 'pandas.core.frame.DataFrame'>\n",
      "RangeIndex: 891 entries, 0 to 890\n",
      "Data columns (total 12 columns):\n",
      "PassengerId    891 non-null int64\n",
      "Survived       891 non-null int64\n",
      "Pclass         891 non-null int64\n",
      "Name           891 non-null object\n",
      "Sex            891 non-null object\n",
      "Age            714 non-null float64\n",
      "SibSp          891 non-null int64\n",
      "Parch          891 non-null int64\n",
      "Ticket         891 non-null object\n",
      "Fare           891 non-null float64\n",
      "Cabin          204 non-null object\n",
      "Embarked       889 non-null object\n",
      "dtypes: float64(2), int64(5), object(5)\n",
      "memory usage: 83.6+ KB\n"
     ]
    }
   ],
   "source": [
    "train_ds.info()"
   ]
  },
  {
   "cell_type": "code",
   "execution_count": 8,
   "metadata": {},
   "outputs": [],
   "source": [
    "#INFERENCE\n",
    "# Survived, Sex, Embarked are categorical data.\n",
    "# Pclass is categorical too but has 3 classes.\n",
    "# Rest are continuous data.\n",
    "\n",
    "# Ticket and Cabin is a mix of letters and numbers.\n",
    "# All passengers have name.\n",
    "# All the values of the column Sex are filled.\n",
    "# Age contains missing values and are of type float64.\n",
    "\n",
    "#In train dataset\n",
    "# Cabin, Age, Embarked are empty in some cases."
   ]
  },
  {
   "cell_type": "code",
   "execution_count": 9,
   "metadata": {},
   "outputs": [
    {
     "name": "stdout",
     "output_type": "stream",
     "text": [
      "<class 'pandas.core.frame.DataFrame'>\n",
      "RangeIndex: 418 entries, 0 to 417\n",
      "Data columns (total 11 columns):\n",
      "PassengerId    418 non-null int64\n",
      "Pclass         418 non-null int64\n",
      "Name           418 non-null object\n",
      "Sex            418 non-null object\n",
      "Age            332 non-null float64\n",
      "SibSp          418 non-null int64\n",
      "Parch          418 non-null int64\n",
      "Ticket         418 non-null object\n",
      "Fare           417 non-null float64\n",
      "Cabin          91 non-null object\n",
      "Embarked       418 non-null object\n",
      "dtypes: float64(2), int64(4), object(5)\n",
      "memory usage: 36.0+ KB\n"
     ]
    }
   ],
   "source": [
    "test_ds.info()"
   ]
  },
  {
   "cell_type": "code",
   "execution_count": 10,
   "metadata": {},
   "outputs": [],
   "source": [
    "# In test dataset\n",
    "# Cabin, Age are empty in some cases.\n",
    "# we need to deal with the missing values."
   ]
  },
  {
   "cell_type": "code",
   "execution_count": 11,
   "metadata": {
    "scrolled": true
   },
   "outputs": [
    {
     "data": {
      "text/html": [
       "<div>\n",
       "<style scoped>\n",
       "    .dataframe tbody tr th:only-of-type {\n",
       "        vertical-align: middle;\n",
       "    }\n",
       "\n",
       "    .dataframe tbody tr th {\n",
       "        vertical-align: top;\n",
       "    }\n",
       "\n",
       "    .dataframe thead th {\n",
       "        text-align: right;\n",
       "    }\n",
       "</style>\n",
       "<table border=\"1\" class=\"dataframe\">\n",
       "  <thead>\n",
       "    <tr style=\"text-align: right;\">\n",
       "      <th></th>\n",
       "      <th>PassengerId</th>\n",
       "      <th>Survived</th>\n",
       "      <th>Pclass</th>\n",
       "      <th>Age</th>\n",
       "      <th>SibSp</th>\n",
       "      <th>Parch</th>\n",
       "      <th>Fare</th>\n",
       "    </tr>\n",
       "  </thead>\n",
       "  <tbody>\n",
       "    <tr>\n",
       "      <th>count</th>\n",
       "      <td>891.000000</td>\n",
       "      <td>891.000000</td>\n",
       "      <td>891.000000</td>\n",
       "      <td>714.000000</td>\n",
       "      <td>891.000000</td>\n",
       "      <td>891.000000</td>\n",
       "      <td>891.000000</td>\n",
       "    </tr>\n",
       "    <tr>\n",
       "      <th>mean</th>\n",
       "      <td>446.000000</td>\n",
       "      <td>0.383838</td>\n",
       "      <td>2.308642</td>\n",
       "      <td>29.699118</td>\n",
       "      <td>0.523008</td>\n",
       "      <td>0.381594</td>\n",
       "      <td>32.204208</td>\n",
       "    </tr>\n",
       "    <tr>\n",
       "      <th>std</th>\n",
       "      <td>257.353842</td>\n",
       "      <td>0.486592</td>\n",
       "      <td>0.836071</td>\n",
       "      <td>14.526497</td>\n",
       "      <td>1.102743</td>\n",
       "      <td>0.806057</td>\n",
       "      <td>49.693429</td>\n",
       "    </tr>\n",
       "    <tr>\n",
       "      <th>min</th>\n",
       "      <td>1.000000</td>\n",
       "      <td>0.000000</td>\n",
       "      <td>1.000000</td>\n",
       "      <td>0.420000</td>\n",
       "      <td>0.000000</td>\n",
       "      <td>0.000000</td>\n",
       "      <td>0.000000</td>\n",
       "    </tr>\n",
       "    <tr>\n",
       "      <th>25%</th>\n",
       "      <td>223.500000</td>\n",
       "      <td>0.000000</td>\n",
       "      <td>2.000000</td>\n",
       "      <td>20.125000</td>\n",
       "      <td>0.000000</td>\n",
       "      <td>0.000000</td>\n",
       "      <td>7.910400</td>\n",
       "    </tr>\n",
       "    <tr>\n",
       "      <th>50%</th>\n",
       "      <td>446.000000</td>\n",
       "      <td>0.000000</td>\n",
       "      <td>3.000000</td>\n",
       "      <td>28.000000</td>\n",
       "      <td>0.000000</td>\n",
       "      <td>0.000000</td>\n",
       "      <td>14.454200</td>\n",
       "    </tr>\n",
       "    <tr>\n",
       "      <th>75%</th>\n",
       "      <td>668.500000</td>\n",
       "      <td>1.000000</td>\n",
       "      <td>3.000000</td>\n",
       "      <td>38.000000</td>\n",
       "      <td>1.000000</td>\n",
       "      <td>0.000000</td>\n",
       "      <td>31.000000</td>\n",
       "    </tr>\n",
       "    <tr>\n",
       "      <th>max</th>\n",
       "      <td>891.000000</td>\n",
       "      <td>1.000000</td>\n",
       "      <td>3.000000</td>\n",
       "      <td>80.000000</td>\n",
       "      <td>8.000000</td>\n",
       "      <td>6.000000</td>\n",
       "      <td>512.329200</td>\n",
       "    </tr>\n",
       "  </tbody>\n",
       "</table>\n",
       "</div>"
      ],
      "text/plain": [
       "       PassengerId    Survived      Pclass         Age       SibSp  \\\n",
       "count   891.000000  891.000000  891.000000  714.000000  891.000000   \n",
       "mean    446.000000    0.383838    2.308642   29.699118    0.523008   \n",
       "std     257.353842    0.486592    0.836071   14.526497    1.102743   \n",
       "min       1.000000    0.000000    1.000000    0.420000    0.000000   \n",
       "25%     223.500000    0.000000    2.000000   20.125000    0.000000   \n",
       "50%     446.000000    0.000000    3.000000   28.000000    0.000000   \n",
       "75%     668.500000    1.000000    3.000000   38.000000    1.000000   \n",
       "max     891.000000    1.000000    3.000000   80.000000    8.000000   \n",
       "\n",
       "            Parch        Fare  \n",
       "count  891.000000  891.000000  \n",
       "mean     0.381594   32.204208  \n",
       "std      0.806057   49.693429  \n",
       "min      0.000000    0.000000  \n",
       "25%      0.000000    7.910400  \n",
       "50%      0.000000   14.454200  \n",
       "75%      0.000000   31.000000  \n",
       "max      6.000000  512.329200  "
      ]
     },
     "execution_count": 11,
     "metadata": {},
     "output_type": "execute_result"
    }
   ],
   "source": [
    "train_ds.describe() #gives stats of dataset"
   ]
  },
  {
   "cell_type": "code",
   "execution_count": 12,
   "metadata": {},
   "outputs": [],
   "source": [
    "# Need to fill-in the missing values of Age, Embarked.\n",
    "\n",
    "# PassengerId, Name is not related to survival, so we'll be dropping them.\n",
    "# We're dropping cabin feature because it contains high amount of missing data (only 204 out of 891 filled in training dataset),\n",
    "# Also it's not directly related to survival."
   ]
  },
  {
   "cell_type": "code",
   "execution_count": 13,
   "metadata": {},
   "outputs": [],
   "source": [
    "#We need to create features.\n",
    "\n",
    "#People with same Parch and SibSp must be of same family, so creating a new feature called Family.\n",
    "#Titles of people can be a new Feature.\n",
    "#Age range can be mapped into category.\n",
    "#Same as Age, Fare range can be created."
   ]
  },
  {
   "cell_type": "code",
   "execution_count": 14,
   "metadata": {},
   "outputs": [],
   "source": [
    "#Women & Children were more likely to survive.\n",
    "#Upper-class members survived more."
   ]
  },
  {
   "cell_type": "code",
   "execution_count": 15,
   "metadata": {},
   "outputs": [],
   "source": [
    "#Now time to confirm some of our assumptions.\n",
    "#We choose only the categorical data.\n",
    "#We choose on the basis of Pclass who survived and who did not."
   ]
  },
  {
   "cell_type": "code",
   "execution_count": 16,
   "metadata": {},
   "outputs": [
    {
     "data": {
      "text/html": [
       "<div>\n",
       "<style scoped>\n",
       "    .dataframe tbody tr th:only-of-type {\n",
       "        vertical-align: middle;\n",
       "    }\n",
       "\n",
       "    .dataframe tbody tr th {\n",
       "        vertical-align: top;\n",
       "    }\n",
       "\n",
       "    .dataframe thead th {\n",
       "        text-align: right;\n",
       "    }\n",
       "</style>\n",
       "<table border=\"1\" class=\"dataframe\">\n",
       "  <thead>\n",
       "    <tr style=\"text-align: right;\">\n",
       "      <th></th>\n",
       "      <th>Survived</th>\n",
       "    </tr>\n",
       "    <tr>\n",
       "      <th>Pclass</th>\n",
       "      <th></th>\n",
       "    </tr>\n",
       "  </thead>\n",
       "  <tbody>\n",
       "    <tr>\n",
       "      <th>1</th>\n",
       "      <td>0.629630</td>\n",
       "    </tr>\n",
       "    <tr>\n",
       "      <th>2</th>\n",
       "      <td>0.472826</td>\n",
       "    </tr>\n",
       "    <tr>\n",
       "      <th>3</th>\n",
       "      <td>0.242363</td>\n",
       "    </tr>\n",
       "  </tbody>\n",
       "</table>\n",
       "</div>"
      ],
      "text/plain": [
       "        Survived\n",
       "Pclass          \n",
       "1       0.629630\n",
       "2       0.472826\n",
       "3       0.242363"
      ]
     },
     "execution_count": 16,
     "metadata": {},
     "output_type": "execute_result"
    }
   ],
   "source": [
    "train_ds[['Pclass', 'Survived']].groupby(['Pclass']).mean().sort_values(by='Survived', ascending=False)"
   ]
  },
  {
   "cell_type": "code",
   "execution_count": 17,
   "metadata": {},
   "outputs": [],
   "source": [
    "#Our assumption was right, Pclass = 1 survived the most."
   ]
  },
  {
   "cell_type": "code",
   "execution_count": 18,
   "metadata": {},
   "outputs": [
    {
     "data": {
      "text/html": [
       "<div>\n",
       "<style scoped>\n",
       "    .dataframe tbody tr th:only-of-type {\n",
       "        vertical-align: middle;\n",
       "    }\n",
       "\n",
       "    .dataframe tbody tr th {\n",
       "        vertical-align: top;\n",
       "    }\n",
       "\n",
       "    .dataframe thead th {\n",
       "        text-align: right;\n",
       "    }\n",
       "</style>\n",
       "<table border=\"1\" class=\"dataframe\">\n",
       "  <thead>\n",
       "    <tr style=\"text-align: right;\">\n",
       "      <th></th>\n",
       "      <th>Survived</th>\n",
       "    </tr>\n",
       "    <tr>\n",
       "      <th>Sex</th>\n",
       "      <th></th>\n",
       "    </tr>\n",
       "  </thead>\n",
       "  <tbody>\n",
       "    <tr>\n",
       "      <th>female</th>\n",
       "      <td>0.742038</td>\n",
       "    </tr>\n",
       "    <tr>\n",
       "      <th>male</th>\n",
       "      <td>0.188908</td>\n",
       "    </tr>\n",
       "  </tbody>\n",
       "</table>\n",
       "</div>"
      ],
      "text/plain": [
       "        Survived\n",
       "Sex             \n",
       "female  0.742038\n",
       "male    0.188908"
      ]
     },
     "execution_count": 18,
     "metadata": {},
     "output_type": "execute_result"
    }
   ],
   "source": [
    "train_ds[['Sex','Survived']].groupby(['Sex']).mean().sort_values(by='Survived', ascending=False)"
   ]
  },
  {
   "cell_type": "code",
   "execution_count": 19,
   "metadata": {},
   "outputs": [],
   "source": [
    "#Female survived the most."
   ]
  },
  {
   "cell_type": "code",
   "execution_count": 20,
   "metadata": {},
   "outputs": [
    {
     "data": {
      "text/html": [
       "<div>\n",
       "<style scoped>\n",
       "    .dataframe tbody tr th:only-of-type {\n",
       "        vertical-align: middle;\n",
       "    }\n",
       "\n",
       "    .dataframe tbody tr th {\n",
       "        vertical-align: top;\n",
       "    }\n",
       "\n",
       "    .dataframe thead th {\n",
       "        text-align: right;\n",
       "    }\n",
       "</style>\n",
       "<table border=\"1\" class=\"dataframe\">\n",
       "  <thead>\n",
       "    <tr style=\"text-align: right;\">\n",
       "      <th></th>\n",
       "      <th>Survived</th>\n",
       "    </tr>\n",
       "    <tr>\n",
       "      <th>SibSp</th>\n",
       "      <th></th>\n",
       "    </tr>\n",
       "  </thead>\n",
       "  <tbody>\n",
       "    <tr>\n",
       "      <th>1</th>\n",
       "      <td>0.535885</td>\n",
       "    </tr>\n",
       "    <tr>\n",
       "      <th>2</th>\n",
       "      <td>0.464286</td>\n",
       "    </tr>\n",
       "    <tr>\n",
       "      <th>0</th>\n",
       "      <td>0.345395</td>\n",
       "    </tr>\n",
       "    <tr>\n",
       "      <th>3</th>\n",
       "      <td>0.250000</td>\n",
       "    </tr>\n",
       "    <tr>\n",
       "      <th>4</th>\n",
       "      <td>0.166667</td>\n",
       "    </tr>\n",
       "    <tr>\n",
       "      <th>5</th>\n",
       "      <td>0.000000</td>\n",
       "    </tr>\n",
       "    <tr>\n",
       "      <th>8</th>\n",
       "      <td>0.000000</td>\n",
       "    </tr>\n",
       "  </tbody>\n",
       "</table>\n",
       "</div>"
      ],
      "text/plain": [
       "       Survived\n",
       "SibSp          \n",
       "1      0.535885\n",
       "2      0.464286\n",
       "0      0.345395\n",
       "3      0.250000\n",
       "4      0.166667\n",
       "5      0.000000\n",
       "8      0.000000"
      ]
     },
     "execution_count": 20,
     "metadata": {},
     "output_type": "execute_result"
    }
   ],
   "source": [
    "train_ds[['SibSp','Survived']].groupby(['SibSp']).mean().sort_values(by='Survived', ascending = False)"
   ]
  },
  {
   "cell_type": "code",
   "execution_count": 21,
   "metadata": {},
   "outputs": [
    {
     "data": {
      "text/html": [
       "<div>\n",
       "<style scoped>\n",
       "    .dataframe tbody tr th:only-of-type {\n",
       "        vertical-align: middle;\n",
       "    }\n",
       "\n",
       "    .dataframe tbody tr th {\n",
       "        vertical-align: top;\n",
       "    }\n",
       "\n",
       "    .dataframe thead th {\n",
       "        text-align: right;\n",
       "    }\n",
       "</style>\n",
       "<table border=\"1\" class=\"dataframe\">\n",
       "  <thead>\n",
       "    <tr style=\"text-align: right;\">\n",
       "      <th></th>\n",
       "      <th>Survived</th>\n",
       "    </tr>\n",
       "    <tr>\n",
       "      <th>Parch</th>\n",
       "      <th></th>\n",
       "    </tr>\n",
       "  </thead>\n",
       "  <tbody>\n",
       "    <tr>\n",
       "      <th>3</th>\n",
       "      <td>0.600000</td>\n",
       "    </tr>\n",
       "    <tr>\n",
       "      <th>1</th>\n",
       "      <td>0.550847</td>\n",
       "    </tr>\n",
       "    <tr>\n",
       "      <th>2</th>\n",
       "      <td>0.500000</td>\n",
       "    </tr>\n",
       "    <tr>\n",
       "      <th>0</th>\n",
       "      <td>0.343658</td>\n",
       "    </tr>\n",
       "    <tr>\n",
       "      <th>5</th>\n",
       "      <td>0.200000</td>\n",
       "    </tr>\n",
       "    <tr>\n",
       "      <th>4</th>\n",
       "      <td>0.000000</td>\n",
       "    </tr>\n",
       "    <tr>\n",
       "      <th>6</th>\n",
       "      <td>0.000000</td>\n",
       "    </tr>\n",
       "  </tbody>\n",
       "</table>\n",
       "</div>"
      ],
      "text/plain": [
       "       Survived\n",
       "Parch          \n",
       "3      0.600000\n",
       "1      0.550847\n",
       "2      0.500000\n",
       "0      0.343658\n",
       "5      0.200000\n",
       "4      0.000000\n",
       "6      0.000000"
      ]
     },
     "execution_count": 21,
     "metadata": {},
     "output_type": "execute_result"
    }
   ],
   "source": [
    "train_ds[['Parch','Survived']].groupby(['Parch']).mean().sort_values(by='Survived', ascending=False)"
   ]
  },
  {
   "cell_type": "code",
   "execution_count": 22,
   "metadata": {},
   "outputs": [],
   "source": [
    "# SibSp Id = 1 & Parch = 3 survived the most."
   ]
  },
  {
   "cell_type": "code",
   "execution_count": 23,
   "metadata": {},
   "outputs": [],
   "source": [
    "#Enough of all the assumptions, now we actually pre-process the data."
   ]
  },
  {
   "cell_type": "code",
   "execution_count": null,
   "metadata": {},
   "outputs": [],
   "source": []
  },
  {
   "cell_type": "code",
   "execution_count": 24,
   "metadata": {},
   "outputs": [],
   "source": [
    "# //Testing Codes here for new survivors by adding them to testing dataset"
   ]
  },
  {
   "cell_type": "code",
   "execution_count": 25,
   "metadata": {},
   "outputs": [],
   "source": [
    "#Sequence -\n",
    "#PassengerId, Pclass, Name, Sex, Age, SibSp, Parch, Ticket, Fare, Cabin, Embarked"
   ]
  },
  {
   "cell_type": "code",
   "execution_count": 26,
   "metadata": {},
   "outputs": [],
   "source": [
    "jack = [\n",
    "    1310, #PassengerId\n",
    "    3,  # Pclass: 3rd\n",
    "    \"Jack Dawson\", #Name\n",
    "    \"male\",  # Sex: male\n",
    "    20.0,  # Age: 20\n",
    "    0, #Jack had no siblings or spouses aboard (no SibSp)\n",
    "    0, #He had no parent or children too (no Parch)\n",
    "    np.nan, #ticket: no ticket\n",
    "    0.0,  # Fare: 0; he won the ticket in gambling\n",
    "    np.nan,  # Cabin: No\n",
    "    \"S\" #Embarked: he boarded at Southampton\n",
    "]\n",
    "\n",
    "rose = [\n",
    "    1311, #PassengerId\n",
    "    1,  # Pclass: 1st class\n",
    "    \"Rose DeWitt Bukater\", #Name\n",
    "    \"female\",  # Sex: female\n",
    "    17.0,  # Age: 17 yo\n",
    "    1, #SibSp: 1 fiance\n",
    "    1, #Parch: mother, father, 2 children #because she went with only mother and fiance\n",
    "    np.nan, #ticket info not available\n",
    "    512.329200,  # Fare: max expensive\n",
    "    np.nan,#\"B56\",  # Cabin: as it's there on the internet.\n",
    "    \"S\" #Embarked: she boarded at Southampton\n",
    "]\n",
    "\n",
    "#movie_chars = pd.DataFrame(columns=[test_ds.columns.values])\n",
    "#movie_chars.loc[0] = jack\n",
    "#movie_chars.loc[1] = rose\n",
    "test_ds.loc[len(test_ds)] = jack\n",
    "test_ds.loc[len(test_ds)] = rose"
   ]
  },
  {
   "cell_type": "code",
   "execution_count": 27,
   "metadata": {},
   "outputs": [],
   "source": [
    "#movie_chars.info()"
   ]
  },
  {
   "cell_type": "code",
   "execution_count": 28,
   "metadata": {},
   "outputs": [
    {
     "data": {
      "text/plain": [
       "420"
      ]
     },
     "execution_count": 28,
     "metadata": {},
     "output_type": "execute_result"
    }
   ],
   "source": [
    "len(test_ds)"
   ]
  },
  {
   "cell_type": "code",
   "execution_count": null,
   "metadata": {},
   "outputs": [],
   "source": []
  },
  {
   "cell_type": "code",
   "execution_count": null,
   "metadata": {},
   "outputs": [],
   "source": []
  },
  {
   "cell_type": "code",
   "execution_count": 29,
   "metadata": {},
   "outputs": [
    {
     "data": {
      "text/html": [
       "<div>\n",
       "<style scoped>\n",
       "    .dataframe tbody tr th:only-of-type {\n",
       "        vertical-align: middle;\n",
       "    }\n",
       "\n",
       "    .dataframe tbody tr th {\n",
       "        vertical-align: top;\n",
       "    }\n",
       "\n",
       "    .dataframe thead th {\n",
       "        text-align: right;\n",
       "    }\n",
       "</style>\n",
       "<table border=\"1\" class=\"dataframe\">\n",
       "  <thead>\n",
       "    <tr style=\"text-align: right;\">\n",
       "      <th></th>\n",
       "      <th>PassengerId</th>\n",
       "      <th>Pclass</th>\n",
       "      <th>Name</th>\n",
       "      <th>Sex</th>\n",
       "      <th>Age</th>\n",
       "      <th>SibSp</th>\n",
       "      <th>Parch</th>\n",
       "      <th>Ticket</th>\n",
       "      <th>Fare</th>\n",
       "      <th>Cabin</th>\n",
       "      <th>Embarked</th>\n",
       "    </tr>\n",
       "  </thead>\n",
       "  <tbody>\n",
       "    <tr>\n",
       "      <th>415</th>\n",
       "      <td>1307</td>\n",
       "      <td>3</td>\n",
       "      <td>Saether, Mr. Simon Sivertsen</td>\n",
       "      <td>male</td>\n",
       "      <td>38.5</td>\n",
       "      <td>0</td>\n",
       "      <td>0</td>\n",
       "      <td>SOTON/O.Q. 3101262</td>\n",
       "      <td>7.2500</td>\n",
       "      <td>NaN</td>\n",
       "      <td>S</td>\n",
       "    </tr>\n",
       "    <tr>\n",
       "      <th>416</th>\n",
       "      <td>1308</td>\n",
       "      <td>3</td>\n",
       "      <td>Ware, Mr. Frederick</td>\n",
       "      <td>male</td>\n",
       "      <td>NaN</td>\n",
       "      <td>0</td>\n",
       "      <td>0</td>\n",
       "      <td>359309</td>\n",
       "      <td>8.0500</td>\n",
       "      <td>NaN</td>\n",
       "      <td>S</td>\n",
       "    </tr>\n",
       "    <tr>\n",
       "      <th>417</th>\n",
       "      <td>1309</td>\n",
       "      <td>3</td>\n",
       "      <td>Peter, Master. Michael J</td>\n",
       "      <td>male</td>\n",
       "      <td>NaN</td>\n",
       "      <td>1</td>\n",
       "      <td>1</td>\n",
       "      <td>2668</td>\n",
       "      <td>22.3583</td>\n",
       "      <td>NaN</td>\n",
       "      <td>C</td>\n",
       "    </tr>\n",
       "    <tr>\n",
       "      <th>418</th>\n",
       "      <td>1310</td>\n",
       "      <td>3</td>\n",
       "      <td>Jack Dawson</td>\n",
       "      <td>male</td>\n",
       "      <td>20.0</td>\n",
       "      <td>0</td>\n",
       "      <td>0</td>\n",
       "      <td>NaN</td>\n",
       "      <td>0.0000</td>\n",
       "      <td>NaN</td>\n",
       "      <td>S</td>\n",
       "    </tr>\n",
       "    <tr>\n",
       "      <th>419</th>\n",
       "      <td>1311</td>\n",
       "      <td>1</td>\n",
       "      <td>Rose DeWitt Bukater</td>\n",
       "      <td>female</td>\n",
       "      <td>17.0</td>\n",
       "      <td>1</td>\n",
       "      <td>1</td>\n",
       "      <td>NaN</td>\n",
       "      <td>512.3292</td>\n",
       "      <td>NaN</td>\n",
       "      <td>S</td>\n",
       "    </tr>\n",
       "  </tbody>\n",
       "</table>\n",
       "</div>"
      ],
      "text/plain": [
       "     PassengerId  Pclass                          Name     Sex   Age  SibSp  \\\n",
       "415         1307       3  Saether, Mr. Simon Sivertsen    male  38.5      0   \n",
       "416         1308       3           Ware, Mr. Frederick    male   NaN      0   \n",
       "417         1309       3      Peter, Master. Michael J    male   NaN      1   \n",
       "418         1310       3                   Jack Dawson    male  20.0      0   \n",
       "419         1311       1           Rose DeWitt Bukater  female  17.0      1   \n",
       "\n",
       "     Parch              Ticket      Fare Cabin Embarked  \n",
       "415      0  SOTON/O.Q. 3101262    7.2500   NaN        S  \n",
       "416      0              359309    8.0500   NaN        S  \n",
       "417      1                2668   22.3583   NaN        C  \n",
       "418      0                 NaN    0.0000   NaN        S  \n",
       "419      1                 NaN  512.3292   NaN        S  "
      ]
     },
     "execution_count": 29,
     "metadata": {},
     "output_type": "execute_result"
    }
   ],
   "source": [
    "test_ds.tail()"
   ]
  },
  {
   "cell_type": "code",
   "execution_count": 30,
   "metadata": {},
   "outputs": [
    {
     "name": "stdout",
     "output_type": "stream",
     "text": [
      "Shape of datasets: (891, 12) (420, 11)\n"
     ]
    }
   ],
   "source": [
    "#An idea of how the dataset looks before we drop some features.\n",
    "print('Shape of datasets:',train_ds.shape,test_ds.shape)"
   ]
  },
  {
   "cell_type": "code",
   "execution_count": 31,
   "metadata": {},
   "outputs": [],
   "source": [
    "#dropping columns(Ticket and Cabin) in training and testing data.\n",
    "train_ds = train_ds.drop(['Ticket','Cabin'], axis='columns')\n",
    "test_ds = test_ds.drop(['Ticket','Cabin'], axis = 'columns')\n",
    "#here instead of axis='columns'(axis= 1) could be used.\n",
    "# Axis=1 here means it will affect all the rows for the specified columns.\n",
    "# Axis=0 means it will affect all the columns for the specified rows."
   ]
  },
  {
   "cell_type": "code",
   "execution_count": 32,
   "metadata": {},
   "outputs": [],
   "source": [
    "combined = [train_ds, test_ds]\n",
    "#this combined is the new list containing the modified train_ds and test_ds."
   ]
  },
  {
   "cell_type": "code",
   "execution_count": 33,
   "metadata": {},
   "outputs": [
    {
     "name": "stdout",
     "output_type": "stream",
     "text": [
      "Shape of datasets: (891, 10) (420, 9)\n"
     ]
    }
   ],
   "source": [
    "#Lets verify this.\n",
    "print('Shape of datasets:', train_ds.shape, test_ds.shape)"
   ]
  },
  {
   "cell_type": "code",
   "execution_count": 34,
   "metadata": {},
   "outputs": [],
   "source": [
    "# At this point we may want to add a new feature namely 'Title', but we might use that if we don't get good accuracy."
   ]
  },
  {
   "cell_type": "code",
   "execution_count": 35,
   "metadata": {},
   "outputs": [],
   "source": [
    "#We are dropping columns(Name and PassengerId) similarly as above."
   ]
  },
  {
   "cell_type": "code",
   "execution_count": 36,
   "metadata": {},
   "outputs": [],
   "source": [
    "train_ds = train_ds.drop(['Name','PassengerId'],axis=1)\n",
    "test_ds = test_ds.drop(['Name','PassengerId'],axis=1)\n",
    "#we combine them into 'combined'\n",
    "combined = [train_ds, test_ds]"
   ]
  },
  {
   "cell_type": "code",
   "execution_count": 37,
   "metadata": {},
   "outputs": [
    {
     "name": "stdout",
     "output_type": "stream",
     "text": [
      "Shape of datasets: (891, 8) (420, 7)\n"
     ]
    }
   ],
   "source": [
    "print('Shape of datasets:', train_ds.shape, test_ds.shape)"
   ]
  },
  {
   "cell_type": "code",
   "execution_count": 38,
   "metadata": {},
   "outputs": [],
   "source": [
    "#Next up we will be mapping the column 'Sex' into numerical categorical feature.\n",
    "#We will do this in both datasets in one go.\n",
    "for ds in combined:\n",
    "    ds['Sex'] = ds['Sex'].map({'male':0, 'female':1}).astype(int)"
   ]
  },
  {
   "cell_type": "code",
   "execution_count": 39,
   "metadata": {},
   "outputs": [
    {
     "data": {
      "text/html": [
       "<div>\n",
       "<style scoped>\n",
       "    .dataframe tbody tr th:only-of-type {\n",
       "        vertical-align: middle;\n",
       "    }\n",
       "\n",
       "    .dataframe tbody tr th {\n",
       "        vertical-align: top;\n",
       "    }\n",
       "\n",
       "    .dataframe thead th {\n",
       "        text-align: right;\n",
       "    }\n",
       "</style>\n",
       "<table border=\"1\" class=\"dataframe\">\n",
       "  <thead>\n",
       "    <tr style=\"text-align: right;\">\n",
       "      <th></th>\n",
       "      <th>Survived</th>\n",
       "      <th>Pclass</th>\n",
       "      <th>Sex</th>\n",
       "      <th>Age</th>\n",
       "      <th>SibSp</th>\n",
       "      <th>Parch</th>\n",
       "      <th>Fare</th>\n",
       "      <th>Embarked</th>\n",
       "    </tr>\n",
       "  </thead>\n",
       "  <tbody>\n",
       "    <tr>\n",
       "      <th>0</th>\n",
       "      <td>0</td>\n",
       "      <td>3</td>\n",
       "      <td>0</td>\n",
       "      <td>22.0</td>\n",
       "      <td>1</td>\n",
       "      <td>0</td>\n",
       "      <td>7.2500</td>\n",
       "      <td>S</td>\n",
       "    </tr>\n",
       "    <tr>\n",
       "      <th>1</th>\n",
       "      <td>1</td>\n",
       "      <td>1</td>\n",
       "      <td>1</td>\n",
       "      <td>38.0</td>\n",
       "      <td>1</td>\n",
       "      <td>0</td>\n",
       "      <td>71.2833</td>\n",
       "      <td>C</td>\n",
       "    </tr>\n",
       "    <tr>\n",
       "      <th>2</th>\n",
       "      <td>1</td>\n",
       "      <td>3</td>\n",
       "      <td>1</td>\n",
       "      <td>26.0</td>\n",
       "      <td>0</td>\n",
       "      <td>0</td>\n",
       "      <td>7.9250</td>\n",
       "      <td>S</td>\n",
       "    </tr>\n",
       "    <tr>\n",
       "      <th>3</th>\n",
       "      <td>1</td>\n",
       "      <td>1</td>\n",
       "      <td>1</td>\n",
       "      <td>35.0</td>\n",
       "      <td>1</td>\n",
       "      <td>0</td>\n",
       "      <td>53.1000</td>\n",
       "      <td>S</td>\n",
       "    </tr>\n",
       "    <tr>\n",
       "      <th>4</th>\n",
       "      <td>0</td>\n",
       "      <td>3</td>\n",
       "      <td>0</td>\n",
       "      <td>35.0</td>\n",
       "      <td>0</td>\n",
       "      <td>0</td>\n",
       "      <td>8.0500</td>\n",
       "      <td>S</td>\n",
       "    </tr>\n",
       "  </tbody>\n",
       "</table>\n",
       "</div>"
      ],
      "text/plain": [
       "   Survived  Pclass  Sex   Age  SibSp  Parch     Fare Embarked\n",
       "0         0       3    0  22.0      1      0   7.2500        S\n",
       "1         1       1    1  38.0      1      0  71.2833        C\n",
       "2         1       3    1  26.0      0      0   7.9250        S\n",
       "3         1       1    1  35.0      1      0  53.1000        S\n",
       "4         0       3    0  35.0      0      0   8.0500        S"
      ]
     },
     "execution_count": 39,
     "metadata": {},
     "output_type": "execute_result"
    }
   ],
   "source": [
    "train_ds.head()"
   ]
  },
  {
   "cell_type": "code",
   "execution_count": 40,
   "metadata": {},
   "outputs": [
    {
     "data": {
      "text/html": [
       "<div>\n",
       "<style scoped>\n",
       "    .dataframe tbody tr th:only-of-type {\n",
       "        vertical-align: middle;\n",
       "    }\n",
       "\n",
       "    .dataframe tbody tr th {\n",
       "        vertical-align: top;\n",
       "    }\n",
       "\n",
       "    .dataframe thead th {\n",
       "        text-align: right;\n",
       "    }\n",
       "</style>\n",
       "<table border=\"1\" class=\"dataframe\">\n",
       "  <thead>\n",
       "    <tr style=\"text-align: right;\">\n",
       "      <th></th>\n",
       "      <th>Pclass</th>\n",
       "      <th>Sex</th>\n",
       "      <th>Age</th>\n",
       "      <th>SibSp</th>\n",
       "      <th>Parch</th>\n",
       "      <th>Fare</th>\n",
       "      <th>Embarked</th>\n",
       "    </tr>\n",
       "  </thead>\n",
       "  <tbody>\n",
       "    <tr>\n",
       "      <th>0</th>\n",
       "      <td>3</td>\n",
       "      <td>0</td>\n",
       "      <td>34.5</td>\n",
       "      <td>0</td>\n",
       "      <td>0</td>\n",
       "      <td>7.8292</td>\n",
       "      <td>Q</td>\n",
       "    </tr>\n",
       "    <tr>\n",
       "      <th>1</th>\n",
       "      <td>3</td>\n",
       "      <td>1</td>\n",
       "      <td>47.0</td>\n",
       "      <td>1</td>\n",
       "      <td>0</td>\n",
       "      <td>7.0000</td>\n",
       "      <td>S</td>\n",
       "    </tr>\n",
       "    <tr>\n",
       "      <th>2</th>\n",
       "      <td>2</td>\n",
       "      <td>0</td>\n",
       "      <td>62.0</td>\n",
       "      <td>0</td>\n",
       "      <td>0</td>\n",
       "      <td>9.6875</td>\n",
       "      <td>Q</td>\n",
       "    </tr>\n",
       "    <tr>\n",
       "      <th>3</th>\n",
       "      <td>3</td>\n",
       "      <td>0</td>\n",
       "      <td>27.0</td>\n",
       "      <td>0</td>\n",
       "      <td>0</td>\n",
       "      <td>8.6625</td>\n",
       "      <td>S</td>\n",
       "    </tr>\n",
       "    <tr>\n",
       "      <th>4</th>\n",
       "      <td>3</td>\n",
       "      <td>1</td>\n",
       "      <td>22.0</td>\n",
       "      <td>1</td>\n",
       "      <td>1</td>\n",
       "      <td>12.2875</td>\n",
       "      <td>S</td>\n",
       "    </tr>\n",
       "  </tbody>\n",
       "</table>\n",
       "</div>"
      ],
      "text/plain": [
       "   Pclass  Sex   Age  SibSp  Parch     Fare Embarked\n",
       "0       3    0  34.5      0      0   7.8292        Q\n",
       "1       3    1  47.0      1      0   7.0000        S\n",
       "2       2    0  62.0      0      0   9.6875        Q\n",
       "3       3    0  27.0      0      0   8.6625        S\n",
       "4       3    1  22.0      1      1  12.2875        S"
      ]
     },
     "execution_count": 40,
     "metadata": {},
     "output_type": "execute_result"
    }
   ],
   "source": [
    "test_ds.head()"
   ]
  },
  {
   "cell_type": "code",
   "execution_count": 41,
   "metadata": {},
   "outputs": [],
   "source": [
    "#We complete the missing Embarked features with the maximum occuring data."
   ]
  },
  {
   "cell_type": "code",
   "execution_count": 42,
   "metadata": {},
   "outputs": [],
   "source": [
    "mode = (train_ds.Embarked.dropna().mode())[0] #mode returns an object and we choose the first element hence 0"
   ]
  },
  {
   "cell_type": "code",
   "execution_count": 43,
   "metadata": {},
   "outputs": [],
   "source": [
    "for ds in combined:\n",
    "    ds['Embarked'] = ds['Embarked'].fillna(mode)"
   ]
  },
  {
   "cell_type": "code",
   "execution_count": 44,
   "metadata": {},
   "outputs": [
    {
     "data": {
      "text/html": [
       "<div>\n",
       "<style scoped>\n",
       "    .dataframe tbody tr th:only-of-type {\n",
       "        vertical-align: middle;\n",
       "    }\n",
       "\n",
       "    .dataframe tbody tr th {\n",
       "        vertical-align: top;\n",
       "    }\n",
       "\n",
       "    .dataframe thead th {\n",
       "        text-align: right;\n",
       "    }\n",
       "</style>\n",
       "<table border=\"1\" class=\"dataframe\">\n",
       "  <thead>\n",
       "    <tr style=\"text-align: right;\">\n",
       "      <th></th>\n",
       "      <th>Survived</th>\n",
       "      <th>Pclass</th>\n",
       "      <th>Sex</th>\n",
       "      <th>Age</th>\n",
       "      <th>SibSp</th>\n",
       "      <th>Parch</th>\n",
       "      <th>Fare</th>\n",
       "      <th>Embarked</th>\n",
       "    </tr>\n",
       "  </thead>\n",
       "  <tbody>\n",
       "    <tr>\n",
       "      <th>0</th>\n",
       "      <td>0</td>\n",
       "      <td>3</td>\n",
       "      <td>0</td>\n",
       "      <td>22.0</td>\n",
       "      <td>1</td>\n",
       "      <td>0</td>\n",
       "      <td>7.2500</td>\n",
       "      <td>S</td>\n",
       "    </tr>\n",
       "    <tr>\n",
       "      <th>1</th>\n",
       "      <td>1</td>\n",
       "      <td>1</td>\n",
       "      <td>1</td>\n",
       "      <td>38.0</td>\n",
       "      <td>1</td>\n",
       "      <td>0</td>\n",
       "      <td>71.2833</td>\n",
       "      <td>C</td>\n",
       "    </tr>\n",
       "    <tr>\n",
       "      <th>2</th>\n",
       "      <td>1</td>\n",
       "      <td>3</td>\n",
       "      <td>1</td>\n",
       "      <td>26.0</td>\n",
       "      <td>0</td>\n",
       "      <td>0</td>\n",
       "      <td>7.9250</td>\n",
       "      <td>S</td>\n",
       "    </tr>\n",
       "    <tr>\n",
       "      <th>3</th>\n",
       "      <td>1</td>\n",
       "      <td>1</td>\n",
       "      <td>1</td>\n",
       "      <td>35.0</td>\n",
       "      <td>1</td>\n",
       "      <td>0</td>\n",
       "      <td>53.1000</td>\n",
       "      <td>S</td>\n",
       "    </tr>\n",
       "    <tr>\n",
       "      <th>4</th>\n",
       "      <td>0</td>\n",
       "      <td>3</td>\n",
       "      <td>0</td>\n",
       "      <td>35.0</td>\n",
       "      <td>0</td>\n",
       "      <td>0</td>\n",
       "      <td>8.0500</td>\n",
       "      <td>S</td>\n",
       "    </tr>\n",
       "  </tbody>\n",
       "</table>\n",
       "</div>"
      ],
      "text/plain": [
       "   Survived  Pclass  Sex   Age  SibSp  Parch     Fare Embarked\n",
       "0         0       3    0  22.0      1      0   7.2500        S\n",
       "1         1       1    1  38.0      1      0  71.2833        C\n",
       "2         1       3    1  26.0      0      0   7.9250        S\n",
       "3         1       1    1  35.0      1      0  53.1000        S\n",
       "4         0       3    0  35.0      0      0   8.0500        S"
      ]
     },
     "execution_count": 44,
     "metadata": {},
     "output_type": "execute_result"
    }
   ],
   "source": [
    "train_ds.head()"
   ]
  },
  {
   "cell_type": "code",
   "execution_count": 45,
   "metadata": {},
   "outputs": [],
   "source": [
    "# TASK HERE TO MAP EMBARKED TO VALUES----->"
   ]
  },
  {
   "cell_type": "code",
   "execution_count": 46,
   "metadata": {},
   "outputs": [],
   "source": [
    "#from sklearn.preprocessing import LabelEncoder, OneHotEncoder\n",
    "#using pandas it's simpler using pandas.get_dummies()"
   ]
  },
  {
   "cell_type": "code",
   "execution_count": 47,
   "metadata": {},
   "outputs": [],
   "source": [
    "train_ds = pd.get_dummies(train_ds,columns=['Embarked'])\n",
    "test_ds = pd.get_dummies(test_ds, columns=['Embarked'])\n",
    "combined = [train_ds, test_ds]"
   ]
  },
  {
   "cell_type": "code",
   "execution_count": 48,
   "metadata": {},
   "outputs": [
    {
     "data": {
      "text/html": [
       "<div>\n",
       "<style scoped>\n",
       "    .dataframe tbody tr th:only-of-type {\n",
       "        vertical-align: middle;\n",
       "    }\n",
       "\n",
       "    .dataframe tbody tr th {\n",
       "        vertical-align: top;\n",
       "    }\n",
       "\n",
       "    .dataframe thead th {\n",
       "        text-align: right;\n",
       "    }\n",
       "</style>\n",
       "<table border=\"1\" class=\"dataframe\">\n",
       "  <thead>\n",
       "    <tr style=\"text-align: right;\">\n",
       "      <th></th>\n",
       "      <th>Survived</th>\n",
       "      <th>Pclass</th>\n",
       "      <th>Sex</th>\n",
       "      <th>Age</th>\n",
       "      <th>SibSp</th>\n",
       "      <th>Parch</th>\n",
       "      <th>Fare</th>\n",
       "      <th>Embarked_C</th>\n",
       "      <th>Embarked_Q</th>\n",
       "      <th>Embarked_S</th>\n",
       "    </tr>\n",
       "  </thead>\n",
       "  <tbody>\n",
       "    <tr>\n",
       "      <th>0</th>\n",
       "      <td>0</td>\n",
       "      <td>3</td>\n",
       "      <td>0</td>\n",
       "      <td>22.0</td>\n",
       "      <td>1</td>\n",
       "      <td>0</td>\n",
       "      <td>7.2500</td>\n",
       "      <td>0</td>\n",
       "      <td>0</td>\n",
       "      <td>1</td>\n",
       "    </tr>\n",
       "    <tr>\n",
       "      <th>1</th>\n",
       "      <td>1</td>\n",
       "      <td>1</td>\n",
       "      <td>1</td>\n",
       "      <td>38.0</td>\n",
       "      <td>1</td>\n",
       "      <td>0</td>\n",
       "      <td>71.2833</td>\n",
       "      <td>1</td>\n",
       "      <td>0</td>\n",
       "      <td>0</td>\n",
       "    </tr>\n",
       "    <tr>\n",
       "      <th>2</th>\n",
       "      <td>1</td>\n",
       "      <td>3</td>\n",
       "      <td>1</td>\n",
       "      <td>26.0</td>\n",
       "      <td>0</td>\n",
       "      <td>0</td>\n",
       "      <td>7.9250</td>\n",
       "      <td>0</td>\n",
       "      <td>0</td>\n",
       "      <td>1</td>\n",
       "    </tr>\n",
       "    <tr>\n",
       "      <th>3</th>\n",
       "      <td>1</td>\n",
       "      <td>1</td>\n",
       "      <td>1</td>\n",
       "      <td>35.0</td>\n",
       "      <td>1</td>\n",
       "      <td>0</td>\n",
       "      <td>53.1000</td>\n",
       "      <td>0</td>\n",
       "      <td>0</td>\n",
       "      <td>1</td>\n",
       "    </tr>\n",
       "    <tr>\n",
       "      <th>4</th>\n",
       "      <td>0</td>\n",
       "      <td>3</td>\n",
       "      <td>0</td>\n",
       "      <td>35.0</td>\n",
       "      <td>0</td>\n",
       "      <td>0</td>\n",
       "      <td>8.0500</td>\n",
       "      <td>0</td>\n",
       "      <td>0</td>\n",
       "      <td>1</td>\n",
       "    </tr>\n",
       "  </tbody>\n",
       "</table>\n",
       "</div>"
      ],
      "text/plain": [
       "   Survived  Pclass  Sex   Age  SibSp  Parch     Fare  Embarked_C  Embarked_Q  \\\n",
       "0         0       3    0  22.0      1      0   7.2500           0           0   \n",
       "1         1       1    1  38.0      1      0  71.2833           1           0   \n",
       "2         1       3    1  26.0      0      0   7.9250           0           0   \n",
       "3         1       1    1  35.0      1      0  53.1000           0           0   \n",
       "4         0       3    0  35.0      0      0   8.0500           0           0   \n",
       "\n",
       "   Embarked_S  \n",
       "0           1  \n",
       "1           0  \n",
       "2           1  \n",
       "3           1  \n",
       "4           1  "
      ]
     },
     "execution_count": 48,
     "metadata": {},
     "output_type": "execute_result"
    }
   ],
   "source": [
    "combined[0].head()"
   ]
  },
  {
   "cell_type": "code",
   "execution_count": 49,
   "metadata": {},
   "outputs": [
    {
     "data": {
      "text/html": [
       "<div>\n",
       "<style scoped>\n",
       "    .dataframe tbody tr th:only-of-type {\n",
       "        vertical-align: middle;\n",
       "    }\n",
       "\n",
       "    .dataframe tbody tr th {\n",
       "        vertical-align: top;\n",
       "    }\n",
       "\n",
       "    .dataframe thead th {\n",
       "        text-align: right;\n",
       "    }\n",
       "</style>\n",
       "<table border=\"1\" class=\"dataframe\">\n",
       "  <thead>\n",
       "    <tr style=\"text-align: right;\">\n",
       "      <th></th>\n",
       "      <th>Pclass</th>\n",
       "      <th>Sex</th>\n",
       "      <th>Age</th>\n",
       "      <th>SibSp</th>\n",
       "      <th>Parch</th>\n",
       "      <th>Fare</th>\n",
       "      <th>Embarked_C</th>\n",
       "      <th>Embarked_Q</th>\n",
       "      <th>Embarked_S</th>\n",
       "    </tr>\n",
       "  </thead>\n",
       "  <tbody>\n",
       "    <tr>\n",
       "      <th>0</th>\n",
       "      <td>3</td>\n",
       "      <td>0</td>\n",
       "      <td>34.5</td>\n",
       "      <td>0</td>\n",
       "      <td>0</td>\n",
       "      <td>7.8292</td>\n",
       "      <td>0</td>\n",
       "      <td>1</td>\n",
       "      <td>0</td>\n",
       "    </tr>\n",
       "    <tr>\n",
       "      <th>1</th>\n",
       "      <td>3</td>\n",
       "      <td>1</td>\n",
       "      <td>47.0</td>\n",
       "      <td>1</td>\n",
       "      <td>0</td>\n",
       "      <td>7.0000</td>\n",
       "      <td>0</td>\n",
       "      <td>0</td>\n",
       "      <td>1</td>\n",
       "    </tr>\n",
       "    <tr>\n",
       "      <th>2</th>\n",
       "      <td>2</td>\n",
       "      <td>0</td>\n",
       "      <td>62.0</td>\n",
       "      <td>0</td>\n",
       "      <td>0</td>\n",
       "      <td>9.6875</td>\n",
       "      <td>0</td>\n",
       "      <td>1</td>\n",
       "      <td>0</td>\n",
       "    </tr>\n",
       "    <tr>\n",
       "      <th>3</th>\n",
       "      <td>3</td>\n",
       "      <td>0</td>\n",
       "      <td>27.0</td>\n",
       "      <td>0</td>\n",
       "      <td>0</td>\n",
       "      <td>8.6625</td>\n",
       "      <td>0</td>\n",
       "      <td>0</td>\n",
       "      <td>1</td>\n",
       "    </tr>\n",
       "    <tr>\n",
       "      <th>4</th>\n",
       "      <td>3</td>\n",
       "      <td>1</td>\n",
       "      <td>22.0</td>\n",
       "      <td>1</td>\n",
       "      <td>1</td>\n",
       "      <td>12.2875</td>\n",
       "      <td>0</td>\n",
       "      <td>0</td>\n",
       "      <td>1</td>\n",
       "    </tr>\n",
       "  </tbody>\n",
       "</table>\n",
       "</div>"
      ],
      "text/plain": [
       "   Pclass  Sex   Age  SibSp  Parch     Fare  Embarked_C  Embarked_Q  \\\n",
       "0       3    0  34.5      0      0   7.8292           0           1   \n",
       "1       3    1  47.0      1      0   7.0000           0           0   \n",
       "2       2    0  62.0      0      0   9.6875           0           1   \n",
       "3       3    0  27.0      0      0   8.6625           0           0   \n",
       "4       3    1  22.0      1      1  12.2875           0           0   \n",
       "\n",
       "   Embarked_S  \n",
       "0           0  \n",
       "1           1  \n",
       "2           0  \n",
       "3           1  \n",
       "4           1  "
      ]
     },
     "execution_count": 49,
     "metadata": {},
     "output_type": "execute_result"
    }
   ],
   "source": [
    "combined[1].head()"
   ]
  },
  {
   "cell_type": "code",
   "execution_count": 50,
   "metadata": {},
   "outputs": [],
   "source": [
    "#To solve the missing age values(works for to fill in the column with numerical continuous features)\n",
    "# We have 3 approaches listed below."
   ]
  },
  {
   "cell_type": "code",
   "execution_count": 51,
   "metadata": {},
   "outputs": [],
   "source": [
    "#1 Generating mean of the existing data and filling.\n",
    "#2 Try to find correlation b/w Age,Sex,Pclass. Then we guess Age value using median for various combinations of Sex & Pclass (total 6 for 3 Pclass(es) and 2 Sex(es)).\n",
    "#3 Combination of #1 and #2 i.e. predict a number b/w mean & s.d., using combinations from Sex & Pclass."
   ]
  },
  {
   "cell_type": "code",
   "execution_count": 52,
   "metadata": {},
   "outputs": [],
   "source": [
    "# We will choose #1 because it is a simpler approach."
   ]
  },
  {
   "cell_type": "code",
   "execution_count": 53,
   "metadata": {},
   "outputs": [],
   "source": [
    "train_ds['Age'].fillna(train_ds['Age'].dropna().mean() ,inplace=True)\n",
    "test_ds['Age'].fillna(test_ds['Age'].dropna().mean() ,inplace=True)\n",
    "combined= [train_ds, test_ds]"
   ]
  },
  {
   "cell_type": "code",
   "execution_count": 54,
   "metadata": {},
   "outputs": [
    {
     "data": {
      "text/html": [
       "<div>\n",
       "<style scoped>\n",
       "    .dataframe tbody tr th:only-of-type {\n",
       "        vertical-align: middle;\n",
       "    }\n",
       "\n",
       "    .dataframe tbody tr th {\n",
       "        vertical-align: top;\n",
       "    }\n",
       "\n",
       "    .dataframe thead th {\n",
       "        text-align: right;\n",
       "    }\n",
       "</style>\n",
       "<table border=\"1\" class=\"dataframe\">\n",
       "  <thead>\n",
       "    <tr style=\"text-align: right;\">\n",
       "      <th></th>\n",
       "      <th>Survived</th>\n",
       "      <th>Pclass</th>\n",
       "      <th>Sex</th>\n",
       "      <th>Age</th>\n",
       "      <th>SibSp</th>\n",
       "      <th>Parch</th>\n",
       "      <th>Fare</th>\n",
       "      <th>Embarked_C</th>\n",
       "      <th>Embarked_Q</th>\n",
       "      <th>Embarked_S</th>\n",
       "    </tr>\n",
       "  </thead>\n",
       "  <tbody>\n",
       "    <tr>\n",
       "      <th>0</th>\n",
       "      <td>0</td>\n",
       "      <td>3</td>\n",
       "      <td>0</td>\n",
       "      <td>22.0</td>\n",
       "      <td>1</td>\n",
       "      <td>0</td>\n",
       "      <td>7.2500</td>\n",
       "      <td>0</td>\n",
       "      <td>0</td>\n",
       "      <td>1</td>\n",
       "    </tr>\n",
       "    <tr>\n",
       "      <th>1</th>\n",
       "      <td>1</td>\n",
       "      <td>1</td>\n",
       "      <td>1</td>\n",
       "      <td>38.0</td>\n",
       "      <td>1</td>\n",
       "      <td>0</td>\n",
       "      <td>71.2833</td>\n",
       "      <td>1</td>\n",
       "      <td>0</td>\n",
       "      <td>0</td>\n",
       "    </tr>\n",
       "    <tr>\n",
       "      <th>2</th>\n",
       "      <td>1</td>\n",
       "      <td>3</td>\n",
       "      <td>1</td>\n",
       "      <td>26.0</td>\n",
       "      <td>0</td>\n",
       "      <td>0</td>\n",
       "      <td>7.9250</td>\n",
       "      <td>0</td>\n",
       "      <td>0</td>\n",
       "      <td>1</td>\n",
       "    </tr>\n",
       "    <tr>\n",
       "      <th>3</th>\n",
       "      <td>1</td>\n",
       "      <td>1</td>\n",
       "      <td>1</td>\n",
       "      <td>35.0</td>\n",
       "      <td>1</td>\n",
       "      <td>0</td>\n",
       "      <td>53.1000</td>\n",
       "      <td>0</td>\n",
       "      <td>0</td>\n",
       "      <td>1</td>\n",
       "    </tr>\n",
       "    <tr>\n",
       "      <th>4</th>\n",
       "      <td>0</td>\n",
       "      <td>3</td>\n",
       "      <td>0</td>\n",
       "      <td>35.0</td>\n",
       "      <td>0</td>\n",
       "      <td>0</td>\n",
       "      <td>8.0500</td>\n",
       "      <td>0</td>\n",
       "      <td>0</td>\n",
       "      <td>1</td>\n",
       "    </tr>\n",
       "  </tbody>\n",
       "</table>\n",
       "</div>"
      ],
      "text/plain": [
       "   Survived  Pclass  Sex   Age  SibSp  Parch     Fare  Embarked_C  Embarked_Q  \\\n",
       "0         0       3    0  22.0      1      0   7.2500           0           0   \n",
       "1         1       1    1  38.0      1      0  71.2833           1           0   \n",
       "2         1       3    1  26.0      0      0   7.9250           0           0   \n",
       "3         1       1    1  35.0      1      0  53.1000           0           0   \n",
       "4         0       3    0  35.0      0      0   8.0500           0           0   \n",
       "\n",
       "   Embarked_S  \n",
       "0           1  \n",
       "1           0  \n",
       "2           1  \n",
       "3           1  \n",
       "4           1  "
      ]
     },
     "execution_count": 54,
     "metadata": {},
     "output_type": "execute_result"
    }
   ],
   "source": [
    "train_ds.head()"
   ]
  },
  {
   "cell_type": "code",
   "execution_count": 55,
   "metadata": {},
   "outputs": [
    {
     "data": {
      "text/html": [
       "<div>\n",
       "<style scoped>\n",
       "    .dataframe tbody tr th:only-of-type {\n",
       "        vertical-align: middle;\n",
       "    }\n",
       "\n",
       "    .dataframe tbody tr th {\n",
       "        vertical-align: top;\n",
       "    }\n",
       "\n",
       "    .dataframe thead th {\n",
       "        text-align: right;\n",
       "    }\n",
       "</style>\n",
       "<table border=\"1\" class=\"dataframe\">\n",
       "  <thead>\n",
       "    <tr style=\"text-align: right;\">\n",
       "      <th></th>\n",
       "      <th>Pclass</th>\n",
       "      <th>Sex</th>\n",
       "      <th>Age</th>\n",
       "      <th>SibSp</th>\n",
       "      <th>Parch</th>\n",
       "      <th>Fare</th>\n",
       "      <th>Embarked_C</th>\n",
       "      <th>Embarked_Q</th>\n",
       "      <th>Embarked_S</th>\n",
       "    </tr>\n",
       "  </thead>\n",
       "  <tbody>\n",
       "    <tr>\n",
       "      <th>0</th>\n",
       "      <td>3</td>\n",
       "      <td>0</td>\n",
       "      <td>34.5</td>\n",
       "      <td>0</td>\n",
       "      <td>0</td>\n",
       "      <td>7.8292</td>\n",
       "      <td>0</td>\n",
       "      <td>1</td>\n",
       "      <td>0</td>\n",
       "    </tr>\n",
       "    <tr>\n",
       "      <th>1</th>\n",
       "      <td>3</td>\n",
       "      <td>1</td>\n",
       "      <td>47.0</td>\n",
       "      <td>1</td>\n",
       "      <td>0</td>\n",
       "      <td>7.0000</td>\n",
       "      <td>0</td>\n",
       "      <td>0</td>\n",
       "      <td>1</td>\n",
       "    </tr>\n",
       "    <tr>\n",
       "      <th>2</th>\n",
       "      <td>2</td>\n",
       "      <td>0</td>\n",
       "      <td>62.0</td>\n",
       "      <td>0</td>\n",
       "      <td>0</td>\n",
       "      <td>9.6875</td>\n",
       "      <td>0</td>\n",
       "      <td>1</td>\n",
       "      <td>0</td>\n",
       "    </tr>\n",
       "    <tr>\n",
       "      <th>3</th>\n",
       "      <td>3</td>\n",
       "      <td>0</td>\n",
       "      <td>27.0</td>\n",
       "      <td>0</td>\n",
       "      <td>0</td>\n",
       "      <td>8.6625</td>\n",
       "      <td>0</td>\n",
       "      <td>0</td>\n",
       "      <td>1</td>\n",
       "    </tr>\n",
       "    <tr>\n",
       "      <th>4</th>\n",
       "      <td>3</td>\n",
       "      <td>1</td>\n",
       "      <td>22.0</td>\n",
       "      <td>1</td>\n",
       "      <td>1</td>\n",
       "      <td>12.2875</td>\n",
       "      <td>0</td>\n",
       "      <td>0</td>\n",
       "      <td>1</td>\n",
       "    </tr>\n",
       "  </tbody>\n",
       "</table>\n",
       "</div>"
      ],
      "text/plain": [
       "   Pclass  Sex   Age  SibSp  Parch     Fare  Embarked_C  Embarked_Q  \\\n",
       "0       3    0  34.5      0      0   7.8292           0           1   \n",
       "1       3    1  47.0      1      0   7.0000           0           0   \n",
       "2       2    0  62.0      0      0   9.6875           0           1   \n",
       "3       3    0  27.0      0      0   8.6625           0           0   \n",
       "4       3    1  22.0      1      1  12.2875           0           0   \n",
       "\n",
       "   Embarked_S  \n",
       "0           0  \n",
       "1           1  \n",
       "2           0  \n",
       "3           1  \n",
       "4           1  "
      ]
     },
     "execution_count": 55,
     "metadata": {},
     "output_type": "execute_result"
    }
   ],
   "source": [
    "test_ds.head()"
   ]
  },
  {
   "cell_type": "code",
   "execution_count": 56,
   "metadata": {},
   "outputs": [],
   "source": [
    "# FILLING MISSING FARE VALUES"
   ]
  },
  {
   "cell_type": "code",
   "execution_count": 57,
   "metadata": {},
   "outputs": [
    {
     "data": {
      "text/plain": [
       "Survived      891\n",
       "Pclass        891\n",
       "Sex           891\n",
       "Age           891\n",
       "SibSp         891\n",
       "Parch         891\n",
       "Fare          891\n",
       "Embarked_C    891\n",
       "Embarked_Q    891\n",
       "Embarked_S    891\n",
       "dtype: int64"
      ]
     },
     "execution_count": 57,
     "metadata": {},
     "output_type": "execute_result"
    }
   ],
   "source": [
    "train_ds.count()"
   ]
  },
  {
   "cell_type": "code",
   "execution_count": 58,
   "metadata": {},
   "outputs": [
    {
     "data": {
      "text/plain": [
       "Pclass        420\n",
       "Sex           420\n",
       "Age           420\n",
       "SibSp         420\n",
       "Parch         420\n",
       "Fare          419\n",
       "Embarked_C    420\n",
       "Embarked_Q    420\n",
       "Embarked_S    420\n",
       "dtype: int64"
      ]
     },
     "execution_count": 58,
     "metadata": {},
     "output_type": "execute_result"
    }
   ],
   "source": [
    "test_ds.count()"
   ]
  },
  {
   "cell_type": "code",
   "execution_count": 59,
   "metadata": {},
   "outputs": [],
   "source": [
    "#Fare in train_ds is complete, we just need to fill in the test_ds."
   ]
  },
  {
   "cell_type": "code",
   "execution_count": 60,
   "metadata": {},
   "outputs": [],
   "source": [
    "test_ds['Fare'].fillna(test_ds['Fare'].dropna().median() ,inplace= True)"
   ]
  },
  {
   "cell_type": "code",
   "execution_count": 61,
   "metadata": {},
   "outputs": [
    {
     "data": {
      "text/plain": [
       "Pclass        420\n",
       "Sex           420\n",
       "Age           420\n",
       "SibSp         420\n",
       "Parch         420\n",
       "Fare          420\n",
       "Embarked_C    420\n",
       "Embarked_Q    420\n",
       "Embarked_S    420\n",
       "dtype: int64"
      ]
     },
     "execution_count": 61,
     "metadata": {},
     "output_type": "execute_result"
    }
   ],
   "source": [
    "test_ds.count()"
   ]
  },
  {
   "cell_type": "code",
   "execution_count": 62,
   "metadata": {},
   "outputs": [
    {
     "data": {
      "text/html": [
       "<div>\n",
       "<style scoped>\n",
       "    .dataframe tbody tr th:only-of-type {\n",
       "        vertical-align: middle;\n",
       "    }\n",
       "\n",
       "    .dataframe tbody tr th {\n",
       "        vertical-align: top;\n",
       "    }\n",
       "\n",
       "    .dataframe thead th {\n",
       "        text-align: right;\n",
       "    }\n",
       "</style>\n",
       "<table border=\"1\" class=\"dataframe\">\n",
       "  <thead>\n",
       "    <tr style=\"text-align: right;\">\n",
       "      <th></th>\n",
       "      <th>Pclass</th>\n",
       "      <th>Sex</th>\n",
       "      <th>Age</th>\n",
       "      <th>SibSp</th>\n",
       "      <th>Parch</th>\n",
       "      <th>Fare</th>\n",
       "      <th>Embarked_C</th>\n",
       "      <th>Embarked_Q</th>\n",
       "      <th>Embarked_S</th>\n",
       "    </tr>\n",
       "  </thead>\n",
       "  <tbody>\n",
       "    <tr>\n",
       "      <th>415</th>\n",
       "      <td>3</td>\n",
       "      <td>0</td>\n",
       "      <td>38.500000</td>\n",
       "      <td>0</td>\n",
       "      <td>0</td>\n",
       "      <td>7.2500</td>\n",
       "      <td>0</td>\n",
       "      <td>0</td>\n",
       "      <td>1</td>\n",
       "    </tr>\n",
       "    <tr>\n",
       "      <th>416</th>\n",
       "      <td>3</td>\n",
       "      <td>0</td>\n",
       "      <td>30.202096</td>\n",
       "      <td>0</td>\n",
       "      <td>0</td>\n",
       "      <td>8.0500</td>\n",
       "      <td>0</td>\n",
       "      <td>0</td>\n",
       "      <td>1</td>\n",
       "    </tr>\n",
       "    <tr>\n",
       "      <th>417</th>\n",
       "      <td>3</td>\n",
       "      <td>0</td>\n",
       "      <td>30.202096</td>\n",
       "      <td>1</td>\n",
       "      <td>1</td>\n",
       "      <td>22.3583</td>\n",
       "      <td>1</td>\n",
       "      <td>0</td>\n",
       "      <td>0</td>\n",
       "    </tr>\n",
       "    <tr>\n",
       "      <th>418</th>\n",
       "      <td>3</td>\n",
       "      <td>0</td>\n",
       "      <td>20.000000</td>\n",
       "      <td>0</td>\n",
       "      <td>0</td>\n",
       "      <td>0.0000</td>\n",
       "      <td>0</td>\n",
       "      <td>0</td>\n",
       "      <td>1</td>\n",
       "    </tr>\n",
       "    <tr>\n",
       "      <th>419</th>\n",
       "      <td>1</td>\n",
       "      <td>1</td>\n",
       "      <td>17.000000</td>\n",
       "      <td>1</td>\n",
       "      <td>1</td>\n",
       "      <td>512.3292</td>\n",
       "      <td>0</td>\n",
       "      <td>0</td>\n",
       "      <td>1</td>\n",
       "    </tr>\n",
       "  </tbody>\n",
       "</table>\n",
       "</div>"
      ],
      "text/plain": [
       "     Pclass  Sex        Age  SibSp  Parch      Fare  Embarked_C  Embarked_Q  \\\n",
       "415       3    0  38.500000      0      0    7.2500           0           0   \n",
       "416       3    0  30.202096      0      0    8.0500           0           0   \n",
       "417       3    0  30.202096      1      1   22.3583           1           0   \n",
       "418       3    0  20.000000      0      0    0.0000           0           0   \n",
       "419       1    1  17.000000      1      1  512.3292           0           0   \n",
       "\n",
       "     Embarked_S  \n",
       "415           1  \n",
       "416           1  \n",
       "417           0  \n",
       "418           1  \n",
       "419           1  "
      ]
     },
     "execution_count": 62,
     "metadata": {},
     "output_type": "execute_result"
    }
   ],
   "source": [
    "test_ds.tail()"
   ]
  },
  {
   "cell_type": "code",
   "execution_count": 63,
   "metadata": {},
   "outputs": [
    {
     "data": {
      "text/html": [
       "<div>\n",
       "<style scoped>\n",
       "    .dataframe tbody tr th:only-of-type {\n",
       "        vertical-align: middle;\n",
       "    }\n",
       "\n",
       "    .dataframe tbody tr th {\n",
       "        vertical-align: top;\n",
       "    }\n",
       "\n",
       "    .dataframe thead th {\n",
       "        text-align: right;\n",
       "    }\n",
       "</style>\n",
       "<table border=\"1\" class=\"dataframe\">\n",
       "  <thead>\n",
       "    <tr style=\"text-align: right;\">\n",
       "      <th></th>\n",
       "      <th>Survived</th>\n",
       "      <th>Pclass</th>\n",
       "      <th>Sex</th>\n",
       "      <th>Age</th>\n",
       "      <th>SibSp</th>\n",
       "      <th>Parch</th>\n",
       "      <th>Fare</th>\n",
       "      <th>Embarked_C</th>\n",
       "      <th>Embarked_Q</th>\n",
       "      <th>Embarked_S</th>\n",
       "    </tr>\n",
       "  </thead>\n",
       "  <tbody>\n",
       "    <tr>\n",
       "      <th>0</th>\n",
       "      <td>0</td>\n",
       "      <td>3</td>\n",
       "      <td>0</td>\n",
       "      <td>22.0</td>\n",
       "      <td>1</td>\n",
       "      <td>0</td>\n",
       "      <td>7.2500</td>\n",
       "      <td>0</td>\n",
       "      <td>0</td>\n",
       "      <td>1</td>\n",
       "    </tr>\n",
       "    <tr>\n",
       "      <th>1</th>\n",
       "      <td>1</td>\n",
       "      <td>1</td>\n",
       "      <td>1</td>\n",
       "      <td>38.0</td>\n",
       "      <td>1</td>\n",
       "      <td>0</td>\n",
       "      <td>71.2833</td>\n",
       "      <td>1</td>\n",
       "      <td>0</td>\n",
       "      <td>0</td>\n",
       "    </tr>\n",
       "    <tr>\n",
       "      <th>2</th>\n",
       "      <td>1</td>\n",
       "      <td>3</td>\n",
       "      <td>1</td>\n",
       "      <td>26.0</td>\n",
       "      <td>0</td>\n",
       "      <td>0</td>\n",
       "      <td>7.9250</td>\n",
       "      <td>0</td>\n",
       "      <td>0</td>\n",
       "      <td>1</td>\n",
       "    </tr>\n",
       "    <tr>\n",
       "      <th>3</th>\n",
       "      <td>1</td>\n",
       "      <td>1</td>\n",
       "      <td>1</td>\n",
       "      <td>35.0</td>\n",
       "      <td>1</td>\n",
       "      <td>0</td>\n",
       "      <td>53.1000</td>\n",
       "      <td>0</td>\n",
       "      <td>0</td>\n",
       "      <td>1</td>\n",
       "    </tr>\n",
       "    <tr>\n",
       "      <th>4</th>\n",
       "      <td>0</td>\n",
       "      <td>3</td>\n",
       "      <td>0</td>\n",
       "      <td>35.0</td>\n",
       "      <td>0</td>\n",
       "      <td>0</td>\n",
       "      <td>8.0500</td>\n",
       "      <td>0</td>\n",
       "      <td>0</td>\n",
       "      <td>1</td>\n",
       "    </tr>\n",
       "  </tbody>\n",
       "</table>\n",
       "</div>"
      ],
      "text/plain": [
       "   Survived  Pclass  Sex   Age  SibSp  Parch     Fare  Embarked_C  Embarked_Q  \\\n",
       "0         0       3    0  22.0      1      0   7.2500           0           0   \n",
       "1         1       1    1  38.0      1      0  71.2833           1           0   \n",
       "2         1       3    1  26.0      0      0   7.9250           0           0   \n",
       "3         1       1    1  35.0      1      0  53.1000           0           0   \n",
       "4         0       3    0  35.0      0      0   8.0500           0           0   \n",
       "\n",
       "   Embarked_S  \n",
       "0           1  \n",
       "1           0  \n",
       "2           1  \n",
       "3           1  \n",
       "4           1  "
      ]
     },
     "execution_count": 63,
     "metadata": {},
     "output_type": "execute_result"
    }
   ],
   "source": [
    "train_ds.head()"
   ]
  },
  {
   "cell_type": "code",
   "execution_count": 64,
   "metadata": {},
   "outputs": [],
   "source": [
    "x = train_ds.iloc[:,1:] #All categories except survived (Training Features)\n",
    "y = train_ds.iloc[:,0] #The survived category (Training Labels)"
   ]
  },
  {
   "cell_type": "code",
   "execution_count": 65,
   "metadata": {},
   "outputs": [
    {
     "data": {
      "text/plain": [
       "(891, 9)"
      ]
     },
     "execution_count": 65,
     "metadata": {},
     "output_type": "execute_result"
    }
   ],
   "source": [
    "x.shape"
   ]
  },
  {
   "cell_type": "code",
   "execution_count": 66,
   "metadata": {},
   "outputs": [
    {
     "data": {
      "text/plain": [
       "(891,)"
      ]
     },
     "execution_count": 66,
     "metadata": {},
     "output_type": "execute_result"
    }
   ],
   "source": [
    "y.shape"
   ]
  },
  {
   "cell_type": "code",
   "execution_count": 67,
   "metadata": {},
   "outputs": [
    {
     "name": "stderr",
     "output_type": "stream",
     "text": [
      "c:\\users\\subhodeep guin\\appdata\\local\\programs\\python\\python36\\lib\\site-packages\\sklearn\\cross_validation.py:41: DeprecationWarning: This module was deprecated in version 0.18 in favor of the model_selection module into which all the refactored classes and functions are moved. Also note that the interface of the new CV iterators are different from that of this module. This module will be removed in 0.20.\n",
      "  \"This module will be removed in 0.20.\", DeprecationWarning)\n"
     ]
    }
   ],
   "source": [
    "from sklearn.cross_validation import train_test_split"
   ]
  },
  {
   "cell_type": "code",
   "execution_count": 68,
   "metadata": {},
   "outputs": [],
   "source": [
    "x_train, x_test, y_train, y_test = train_test_split(x,y,test_size=0.2,random_state=42)\n",
    "#This makes sure there is 80% training data and 20% testing data from the total existing training data."
   ]
  },
  {
   "cell_type": "code",
   "execution_count": 69,
   "metadata": {},
   "outputs": [
    {
     "data": {
      "text/plain": [
       "(712, 9)"
      ]
     },
     "execution_count": 69,
     "metadata": {},
     "output_type": "execute_result"
    }
   ],
   "source": [
    "x_train.shape"
   ]
  },
  {
   "cell_type": "code",
   "execution_count": 70,
   "metadata": {},
   "outputs": [
    {
     "data": {
      "text/plain": [
       "(179, 9)"
      ]
     },
     "execution_count": 70,
     "metadata": {},
     "output_type": "execute_result"
    }
   ],
   "source": [
    "x_test.shape"
   ]
  },
  {
   "cell_type": "code",
   "execution_count": 71,
   "metadata": {},
   "outputs": [
    {
     "data": {
      "text/plain": [
       "(712,)"
      ]
     },
     "execution_count": 71,
     "metadata": {},
     "output_type": "execute_result"
    }
   ],
   "source": [
    "y_train.shape"
   ]
  },
  {
   "cell_type": "code",
   "execution_count": 72,
   "metadata": {},
   "outputs": [
    {
     "data": {
      "text/plain": [
       "(179,)"
      ]
     },
     "execution_count": 72,
     "metadata": {},
     "output_type": "execute_result"
    }
   ],
   "source": [
    "y_test.shape"
   ]
  },
  {
   "cell_type": "code",
   "execution_count": 73,
   "metadata": {},
   "outputs": [],
   "source": [
    "#Initial testing on a small level using RandomForestClassifier.\n",
    "from sklearn.ensemble import RandomForestClassifier"
   ]
  },
  {
   "cell_type": "code",
   "execution_count": 74,
   "metadata": {},
   "outputs": [],
   "source": [
    "rf = RandomForestClassifier(n_estimators=100)"
   ]
  },
  {
   "cell_type": "code",
   "execution_count": 75,
   "metadata": {},
   "outputs": [
    {
     "data": {
      "text/plain": [
       "RandomForestClassifier(bootstrap=True, class_weight=None, criterion='gini',\n",
       "            max_depth=None, max_features='auto', max_leaf_nodes=None,\n",
       "            min_impurity_decrease=0.0, min_impurity_split=None,\n",
       "            min_samples_leaf=1, min_samples_split=2,\n",
       "            min_weight_fraction_leaf=0.0, n_estimators=100, n_jobs=1,\n",
       "            oob_score=False, random_state=None, verbose=0,\n",
       "            warm_start=False)"
      ]
     },
     "execution_count": 75,
     "metadata": {},
     "output_type": "execute_result"
    }
   ],
   "source": [
    "rf.fit(x_train, y_train)"
   ]
  },
  {
   "cell_type": "code",
   "execution_count": 76,
   "metadata": {},
   "outputs": [
    {
     "data": {
      "text/plain": [
       "0.8100558659217877"
      ]
     },
     "execution_count": 76,
     "metadata": {},
     "output_type": "execute_result"
    }
   ],
   "source": [
    "rf.score(x_test, y_test)"
   ]
  },
  {
   "cell_type": "code",
   "execution_count": 77,
   "metadata": {},
   "outputs": [],
   "source": [
    "#Fairly a good start because the accuracy lies between somewhat 80~83%."
   ]
  },
  {
   "cell_type": "code",
   "execution_count": 78,
   "metadata": {},
   "outputs": [],
   "source": [
    "#Let's try with Decision Tree"
   ]
  },
  {
   "cell_type": "code",
   "execution_count": 79,
   "metadata": {},
   "outputs": [],
   "source": [
    "from sklearn.tree import DecisionTreeClassifier"
   ]
  },
  {
   "cell_type": "code",
   "execution_count": 80,
   "metadata": {},
   "outputs": [
    {
     "data": {
      "text/plain": [
       "DecisionTreeClassifier(class_weight=None, criterion='gini', max_depth=None,\n",
       "            max_features=None, max_leaf_nodes=50,\n",
       "            min_impurity_decrease=0.0, min_impurity_split=None,\n",
       "            min_samples_leaf=1, min_samples_split=2,\n",
       "            min_weight_fraction_leaf=0.0, presort=False, random_state=None,\n",
       "            splitter='best')"
      ]
     },
     "execution_count": 80,
     "metadata": {},
     "output_type": "execute_result"
    }
   ],
   "source": [
    "dt = DecisionTreeClassifier(max_leaf_nodes = 50)\n",
    "dt.fit(x_train, y_train)"
   ]
  },
  {
   "cell_type": "code",
   "execution_count": 81,
   "metadata": {},
   "outputs": [
    {
     "data": {
      "text/plain": [
       "0.8212290502793296"
      ]
     },
     "execution_count": 81,
     "metadata": {},
     "output_type": "execute_result"
    }
   ],
   "source": [
    "dt.score(x_test, y_test)"
   ]
  },
  {
   "cell_type": "code",
   "execution_count": 82,
   "metadata": {},
   "outputs": [],
   "source": [
    "#similar results as above(80~83%)."
   ]
  },
  {
   "cell_type": "code",
   "execution_count": 83,
   "metadata": {},
   "outputs": [],
   "source": [
    "#Creating a Neural Network for the above problem"
   ]
  },
  {
   "cell_type": "code",
   "execution_count": 84,
   "metadata": {},
   "outputs": [],
   "source": [
    "#x_train = np.array(x_train)"
   ]
  },
  {
   "cell_type": "code",
   "execution_count": 85,
   "metadata": {},
   "outputs": [],
   "source": [
    "#y_train = np.array(y_train).T # For transposing"
   ]
  },
  {
   "cell_type": "code",
   "execution_count": 86,
   "metadata": {},
   "outputs": [],
   "source": [
    "#Create a Neural Network model"
   ]
  },
  {
   "cell_type": "code",
   "execution_count": 87,
   "metadata": {},
   "outputs": [
    {
     "name": "stderr",
     "output_type": "stream",
     "text": [
      "Using TensorFlow backend.\n"
     ]
    }
   ],
   "source": [
    "from keras.models import Sequential"
   ]
  },
  {
   "cell_type": "code",
   "execution_count": 88,
   "metadata": {},
   "outputs": [],
   "source": [
    "model = Sequential()"
   ]
  },
  {
   "cell_type": "code",
   "execution_count": 89,
   "metadata": {},
   "outputs": [],
   "source": [
    "from keras.layers import Dense, Activation"
   ]
  },
  {
   "cell_type": "code",
   "execution_count": 90,
   "metadata": {},
   "outputs": [
    {
     "data": {
      "text/plain": [
       "712"
      ]
     },
     "execution_count": 90,
     "metadata": {},
     "output_type": "execute_result"
    }
   ],
   "source": [
    "x_train.shape[0] #This is the number of columns of our dataset."
   ]
  },
  {
   "cell_type": "code",
   "execution_count": 91,
   "metadata": {},
   "outputs": [
    {
     "data": {
      "text/plain": [
       "(712, 9)"
      ]
     },
     "execution_count": 91,
     "metadata": {},
     "output_type": "execute_result"
    }
   ],
   "source": [
    "x_train.shape"
   ]
  },
  {
   "cell_type": "code",
   "execution_count": 92,
   "metadata": {},
   "outputs": [
    {
     "name": "stderr",
     "output_type": "stream",
     "text": [
      "c:\\users\\subhodeep guin\\appdata\\local\\programs\\python\\python36\\lib\\site-packages\\ipykernel_launcher.py:2: UserWarning: Update your `Dense` call to the Keras 2 API: `Dense(9, input_dim=9, activation=\"relu\", kernel_initializer=\"uniform\")`\n",
      "  \n"
     ]
    }
   ],
   "source": [
    "#creating input layer and add only one hidden layer\n",
    "model.add(Dense(x_train.shape[1], init='uniform', input_dim= x_train.shape[1], activation='relu'))\n",
    "#input_dim is the number of features in input layer\n",
    "#just after dense(x,...), x is the number of features in the first hidden layer"
   ]
  },
  {
   "cell_type": "code",
   "execution_count": 93,
   "metadata": {},
   "outputs": [
    {
     "name": "stderr",
     "output_type": "stream",
     "text": [
      "c:\\users\\subhodeep guin\\appdata\\local\\programs\\python\\python36\\lib\\site-packages\\ipykernel_launcher.py:2: UserWarning: Update your `Dense` call to the Keras 2 API: `Dense(9, input_dim=9, activation=\"relu\", kernel_initializer=\"uniform\")`\n",
      "  \n"
     ]
    }
   ],
   "source": [
    "#adding second hidden layer\n",
    "model.add(Dense(x_train.shape[1], init='uniform', input_dim=x_train.shape[1], activation='relu'))"
   ]
  },
  {
   "cell_type": "code",
   "execution_count": 94,
   "metadata": {},
   "outputs": [],
   "source": [
    "#creating output layer\n",
    "model.add(Dense(1, activation='sigmoid'))"
   ]
  },
  {
   "cell_type": "code",
   "execution_count": 95,
   "metadata": {},
   "outputs": [],
   "source": [
    "# compile model\n",
    "model.compile(loss='binary_crossentropy', optimizer='adam', metrics=['accuracy'])"
   ]
  },
  {
   "cell_type": "code",
   "execution_count": 96,
   "metadata": {},
   "outputs": [
    {
     "name": "stdout",
     "output_type": "stream",
     "text": [
      "Epoch 1/100\n",
      "712/712 [==============================] - 0s 570us/step - loss: 0.6502 - acc: 0.6531\n",
      "Epoch 2/100\n",
      "712/712 [==============================] - 0s 178us/step - loss: 0.6145 - acc: 0.6699\n",
      "Epoch 3/100\n",
      "712/712 [==============================] - 0s 174us/step - loss: 0.6058 - acc: 0.6699\n",
      "Epoch 4/100\n",
      "712/712 [==============================] - 0s 188us/step - loss: 0.5949 - acc: 0.6966\n",
      "Epoch 5/100\n",
      "712/712 [==============================] - 0s 185us/step - loss: 0.5811 - acc: 0.7008\n",
      "Epoch 6/100\n",
      "712/712 [==============================] - 0s 174us/step - loss: 0.5646 - acc: 0.7093\n",
      "Epoch 7/100\n",
      "712/712 [==============================] - 0s 186us/step - loss: 0.5473 - acc: 0.7219\n",
      "Epoch 8/100\n",
      "712/712 [==============================] - 0s 282us/step - loss: 0.5273 - acc: 0.7402\n",
      "Epoch 9/100\n",
      "712/712 [==============================] - 0s 205us/step - loss: 0.5148 - acc: 0.7570\n",
      "Epoch 10/100\n",
      "712/712 [==============================] - 0s 216us/step - loss: 0.4980 - acc: 0.7809\n",
      "Epoch 11/100\n",
      "712/712 [==============================] - 0s 183us/step - loss: 0.4918 - acc: 0.7640\n",
      "Epoch 12/100\n",
      "712/712 [==============================] - 0s 182us/step - loss: 0.4766 - acc: 0.7907\n",
      "Epoch 13/100\n",
      "712/712 [==============================] - 0s 178us/step - loss: 0.4739 - acc: 0.7781\n",
      "Epoch 14/100\n",
      "712/712 [==============================] - 0s 167us/step - loss: 0.4888 - acc: 0.7781\n",
      "Epoch 15/100\n",
      "712/712 [==============================] - 0s 183us/step - loss: 0.4737 - acc: 0.7935\n",
      "Epoch 16/100\n",
      "712/712 [==============================] - 0s 198us/step - loss: 0.4683 - acc: 0.7921\n",
      "Epoch 17/100\n",
      "712/712 [==============================] - 0s 329us/step - loss: 0.4582 - acc: 0.7851\n",
      "Epoch 18/100\n",
      "712/712 [==============================] - 0s 237us/step - loss: 0.4693 - acc: 0.8020\n",
      "Epoch 19/100\n",
      "712/712 [==============================] - 0s 212us/step - loss: 0.4687 - acc: 0.7963\n",
      "Epoch 20/100\n",
      "712/712 [==============================] - 0s 179us/step - loss: 0.4634 - acc: 0.7963\n",
      "Epoch 21/100\n",
      "712/712 [==============================] - 0s 188us/step - loss: 0.4635 - acc: 0.7935\n",
      "Epoch 22/100\n",
      "712/712 [==============================] - 0s 185us/step - loss: 0.4558 - acc: 0.7978\n",
      "Epoch 23/100\n",
      "712/712 [==============================] - 0s 175us/step - loss: 0.4595 - acc: 0.7978\n",
      "Epoch 24/100\n",
      "712/712 [==============================] - 0s 171us/step - loss: 0.4512 - acc: 0.8006\n",
      "Epoch 25/100\n",
      "712/712 [==============================] - 0s 179us/step - loss: 0.4549 - acc: 0.7992\n",
      "Epoch 26/100\n",
      "712/712 [==============================] - 0s 228us/step - loss: 0.4571 - acc: 0.7935\n",
      "Epoch 27/100\n",
      "712/712 [==============================] - 0s 163us/step - loss: 0.4551 - acc: 0.8006\n",
      "Epoch 28/100\n",
      "712/712 [==============================] - 0s 172us/step - loss: 0.4490 - acc: 0.7963\n",
      "Epoch 29/100\n",
      "712/712 [==============================] - 0s 200us/step - loss: 0.4520 - acc: 0.7992\n",
      "Epoch 30/100\n",
      "712/712 [==============================] - 0s 200us/step - loss: 0.4420 - acc: 0.8090\n",
      "Epoch 31/100\n",
      "712/712 [==============================] - 0s 217us/step - loss: 0.4544 - acc: 0.8090\n",
      "Epoch 32/100\n",
      "712/712 [==============================] - 0s 213us/step - loss: 0.4502 - acc: 0.7963\n",
      "Epoch 33/100\n",
      "712/712 [==============================] - 0s 210us/step - loss: 0.4468 - acc: 0.8020\n",
      "Epoch 34/100\n",
      "712/712 [==============================] - 0s 251us/step - loss: 0.4553 - acc: 0.7992\n",
      "Epoch 35/100\n",
      "712/712 [==============================] - 0s 191us/step - loss: 0.4440 - acc: 0.7935\n",
      "Epoch 36/100\n",
      "712/712 [==============================] - 0s 188us/step - loss: 0.4448 - acc: 0.8062\n",
      "Epoch 37/100\n",
      "712/712 [==============================] - 0s 188us/step - loss: 0.4505 - acc: 0.7879\n",
      "Epoch 38/100\n",
      "712/712 [==============================] - 0s 206us/step - loss: 0.4459 - acc: 0.8076\n",
      "Epoch 39/100\n",
      "712/712 [==============================] - 0s 172us/step - loss: 0.4475 - acc: 0.8062\n",
      "Epoch 40/100\n",
      "712/712 [==============================] - 0s 162us/step - loss: 0.4434 - acc: 0.8006\n",
      "Epoch 41/100\n",
      "712/712 [==============================] - 0s 178us/step - loss: 0.4458 - acc: 0.8090\n",
      "Epoch 42/100\n",
      "712/712 [==============================] - 0s 224us/step - loss: 0.4437 - acc: 0.8076\n",
      "Epoch 43/100\n",
      "712/712 [==============================] - 0s 273us/step - loss: 0.4433 - acc: 0.7992\n",
      "Epoch 44/100\n",
      "712/712 [==============================] - 0s 203us/step - loss: 0.4405 - acc: 0.8034\n",
      "Epoch 45/100\n",
      "712/712 [==============================] - 0s 244us/step - loss: 0.4391 - acc: 0.8076\n",
      "Epoch 46/100\n",
      "712/712 [==============================] - 0s 203us/step - loss: 0.4349 - acc: 0.8048\n",
      "Epoch 47/100\n",
      "712/712 [==============================] - 0s 186us/step - loss: 0.4356 - acc: 0.8034\n",
      "Epoch 48/100\n",
      "712/712 [==============================] - 0s 213us/step - loss: 0.4372 - acc: 0.8104\n",
      "Epoch 49/100\n",
      "712/712 [==============================] - 0s 199us/step - loss: 0.4354 - acc: 0.8048\n",
      "Epoch 50/100\n",
      "712/712 [==============================] - 0s 237us/step - loss: 0.4490 - acc: 0.8020\n",
      "Epoch 51/100\n",
      "712/712 [==============================] - 0s 175us/step - loss: 0.4354 - acc: 0.8076\n",
      "Epoch 52/100\n",
      "712/712 [==============================] - 0s 181us/step - loss: 0.4422 - acc: 0.8048\n",
      "Epoch 53/100\n",
      "712/712 [==============================] - 0s 182us/step - loss: 0.4381 - acc: 0.7992\n",
      "Epoch 54/100\n",
      "712/712 [==============================] - 0s 175us/step - loss: 0.4344 - acc: 0.8076\n",
      "Epoch 55/100\n",
      "712/712 [==============================] - 0s 213us/step - loss: 0.4317 - acc: 0.8076\n",
      "Epoch 56/100\n",
      "712/712 [==============================] - 0s 185us/step - loss: 0.4340 - acc: 0.8160\n",
      "Epoch 57/100\n",
      "712/712 [==============================] - 0s 186us/step - loss: 0.4406 - acc: 0.7992\n",
      "Epoch 58/100\n",
      "712/712 [==============================] - 0s 178us/step - loss: 0.4377 - acc: 0.8062\n",
      "Epoch 59/100\n",
      "712/712 [==============================] - 0s 171us/step - loss: 0.4383 - acc: 0.8062\n",
      "Epoch 60/100\n",
      "712/712 [==============================] - 0s 172us/step - loss: 0.4363 - acc: 0.7992\n",
      "Epoch 61/100\n",
      "712/712 [==============================] - 0s 178us/step - loss: 0.4384 - acc: 0.8020\n",
      "Epoch 62/100\n",
      "712/712 [==============================] - 0s 198us/step - loss: 0.4419 - acc: 0.7978\n",
      "Epoch 63/100\n",
      "712/712 [==============================] - 0s 184us/step - loss: 0.4330 - acc: 0.8076\n",
      "Epoch 64/100\n",
      "712/712 [==============================] - 0s 171us/step - loss: 0.4318 - acc: 0.8062\n",
      "Epoch 65/100\n",
      "712/712 [==============================] - 0s 179us/step - loss: 0.4308 - acc: 0.8104\n",
      "Epoch 66/100\n",
      "712/712 [==============================] - 0s 174us/step - loss: 0.4259 - acc: 0.8202\n",
      "Epoch 67/100\n",
      "712/712 [==============================] - 0s 178us/step - loss: 0.4303 - acc: 0.8132\n",
      "Epoch 68/100\n",
      "712/712 [==============================] - 0s 164us/step - loss: 0.4352 - acc: 0.8132\n",
      "Epoch 69/100\n",
      "712/712 [==============================] - 0s 164us/step - loss: 0.4307 - acc: 0.8174\n",
      "Epoch 70/100\n",
      "712/712 [==============================] - 0s 196us/step - loss: 0.4356 - acc: 0.8090\n",
      "Epoch 71/100\n",
      "712/712 [==============================] - 0s 193us/step - loss: 0.4314 - acc: 0.8202\n",
      "Epoch 72/100\n",
      "712/712 [==============================] - 0s 199us/step - loss: 0.4326 - acc: 0.8020\n",
      "Epoch 73/100\n",
      "712/712 [==============================] - 0s 160us/step - loss: 0.4295 - acc: 0.8020\n",
      "Epoch 74/100\n",
      "712/712 [==============================] - 0s 164us/step - loss: 0.4248 - acc: 0.8160\n",
      "Epoch 75/100\n",
      "712/712 [==============================] - 0s 167us/step - loss: 0.4338 - acc: 0.8104\n",
      "Epoch 76/100\n",
      "712/712 [==============================] - 0s 176us/step - loss: 0.4303 - acc: 0.8160\n",
      "Epoch 77/100\n",
      "712/712 [==============================] - 0s 162us/step - loss: 0.4291 - acc: 0.8034\n",
      "Epoch 78/100\n",
      "712/712 [==============================] - 0s 172us/step - loss: 0.4217 - acc: 0.8090\n",
      "Epoch 79/100\n",
      "712/712 [==============================] - 0s 175us/step - loss: 0.4326 - acc: 0.8062\n",
      "Epoch 80/100\n",
      "712/712 [==============================] - 0s 174us/step - loss: 0.4255 - acc: 0.8090\n",
      "Epoch 81/100\n",
      "712/712 [==============================] - 0s 168us/step - loss: 0.4297 - acc: 0.8062\n",
      "Epoch 82/100\n",
      "712/712 [==============================] - 0s 189us/step - loss: 0.4242 - acc: 0.8076\n",
      "Epoch 83/100\n"
     ]
    },
    {
     "name": "stdout",
     "output_type": "stream",
     "text": [
      "712/712 [==============================] - 0s 193us/step - loss: 0.4251 - acc: 0.8062\n",
      "Epoch 84/100\n",
      "712/712 [==============================] - 0s 167us/step - loss: 0.4258 - acc: 0.8174\n",
      "Epoch 85/100\n",
      "712/712 [==============================] - 0s 165us/step - loss: 0.4249 - acc: 0.8062\n",
      "Epoch 86/100\n",
      "712/712 [==============================] - 0s 179us/step - loss: 0.4322 - acc: 0.8062\n",
      "Epoch 87/100\n",
      "712/712 [==============================] - 0s 164us/step - loss: 0.4288 - acc: 0.8062\n",
      "Epoch 88/100\n",
      "712/712 [==============================] - 0s 168us/step - loss: 0.4387 - acc: 0.7978\n",
      "Epoch 89/100\n",
      "712/712 [==============================] - 0s 174us/step - loss: 0.4271 - acc: 0.8160\n",
      "Epoch 90/100\n",
      "712/712 [==============================] - 0s 168us/step - loss: 0.4257 - acc: 0.8146\n",
      "Epoch 91/100\n",
      "712/712 [==============================] - 0s 172us/step - loss: 0.4221 - acc: 0.8202\n",
      "Epoch 92/100\n",
      "712/712 [==============================] - 0s 185us/step - loss: 0.4285 - acc: 0.8118\n",
      "Epoch 93/100\n",
      "712/712 [==============================] - 0s 188us/step - loss: 0.4211 - acc: 0.8160\n",
      "Epoch 94/100\n",
      "712/712 [==============================] - 0s 171us/step - loss: 0.4256 - acc: 0.8174\n",
      "Epoch 95/100\n",
      "712/712 [==============================] - 0s 174us/step - loss: 0.4271 - acc: 0.8174\n",
      "Epoch 96/100\n",
      "712/712 [==============================] - 0s 164us/step - loss: 0.4220 - acc: 0.8034\n",
      "Epoch 97/100\n",
      "712/712 [==============================] - 0s 161us/step - loss: 0.4285 - acc: 0.8062\n",
      "Epoch 98/100\n",
      "712/712 [==============================] - 0s 160us/step - loss: 0.4303 - acc: 0.8160\n",
      "Epoch 99/100\n",
      "712/712 [==============================] - 0s 198us/step - loss: 0.4278 - acc: 0.7978\n",
      "Epoch 100/100\n",
      "712/712 [==============================] - 0s 155us/step - loss: 0.4226 - acc: 0.8090\n"
     ]
    },
    {
     "data": {
      "text/plain": [
       "<keras.callbacks.History at 0x2bf578de240>"
      ]
     },
     "execution_count": 96,
     "metadata": {},
     "output_type": "execute_result"
    }
   ],
   "source": [
    "#train model\n",
    "model.fit(x_train, y_train, epochs=100, batch_size=8)"
   ]
  },
  {
   "cell_type": "code",
   "execution_count": 97,
   "metadata": {},
   "outputs": [
    {
     "name": "stdout",
     "output_type": "stream",
     "text": [
      "712/712 [==============================] - 0s 74us/step\n"
     ]
    },
    {
     "data": {
      "text/plain": [
       "0.8132022471910112"
      ]
     },
     "execution_count": 97,
     "metadata": {},
     "output_type": "execute_result"
    }
   ],
   "source": [
    "#Accuracy of training data.\n",
    "model.evaluate(x_train, y_train)[1]"
   ]
  },
  {
   "cell_type": "code",
   "execution_count": 98,
   "metadata": {},
   "outputs": [
    {
     "data": {
      "text/plain": [
       "array([[0.1009783 ],\n",
       "       [0.11709563],\n",
       "       [0.17685448],\n",
       "       [0.838714  ],\n",
       "       [0.589128  ],\n",
       "       [0.95676005],\n",
       "       [0.6330187 ],\n",
       "       [0.15309244],\n",
       "       [0.6493967 ],\n",
       "       [0.94931257],\n",
       "       [0.1923908 ],\n",
       "       [0.04386481],\n",
       "       [0.20224531],\n",
       "       [0.11632127],\n",
       "       [0.08949199],\n",
       "       [0.96721953],\n",
       "       [0.15689178],\n",
       "       [0.6335866 ],\n",
       "       [0.14952378],\n",
       "       [0.17437735],\n",
       "       [0.14239967],\n",
       "       [0.1940254 ],\n",
       "       [0.43718463],\n",
       "       [0.17823756],\n",
       "       [0.10772078],\n",
       "       [0.18643819],\n",
       "       [0.24612387],\n",
       "       [0.11954025],\n",
       "       [0.2521649 ],\n",
       "       [0.4771336 ],\n",
       "       [0.18638876],\n",
       "       [0.5059739 ],\n",
       "       [0.30050418],\n",
       "       [0.48272502],\n",
       "       [0.19652534],\n",
       "       [0.11570263],\n",
       "       [0.2749161 ],\n",
       "       [0.6330187 ],\n",
       "       [0.9822505 ],\n",
       "       [0.10318229],\n",
       "       [0.29800588],\n",
       "       [0.08507084],\n",
       "       [0.10328629],\n",
       "       [0.1080185 ],\n",
       "       [0.50491077],\n",
       "       [0.21527949],\n",
       "       [0.18667898],\n",
       "       [0.15168512],\n",
       "       [0.14164874],\n",
       "       [0.30567497],\n",
       "       [0.4757117 ],\n",
       "       [0.9224443 ],\n",
       "       [0.05365084],\n",
       "       [0.5087817 ],\n",
       "       [0.01770347],\n",
       "       [0.890556  ],\n",
       "       [0.110603  ],\n",
       "       [0.7727617 ],\n",
       "       [0.8451444 ],\n",
       "       [0.64675045],\n",
       "       [0.16752517],\n",
       "       [0.8306397 ],\n",
       "       [0.7997042 ],\n",
       "       [0.2257552 ],\n",
       "       [0.1080185 ],\n",
       "       [0.7787594 ],\n",
       "       [0.38917145],\n",
       "       [0.1074071 ],\n",
       "       [0.1935099 ],\n",
       "       [0.96905017],\n",
       "       [0.75623006],\n",
       "       [0.7108182 ],\n",
       "       [0.33557084],\n",
       "       [0.96474296],\n",
       "       [0.15040435],\n",
       "       [0.05930119],\n",
       "       [0.6320511 ],\n",
       "       [0.97238636],\n",
       "       [0.8075854 ],\n",
       "       [0.33263564],\n",
       "       [0.11498316],\n",
       "       [0.8028142 ],\n",
       "       [0.87732756],\n",
       "       [0.10800973],\n",
       "       [0.19644763],\n",
       "       [0.15847185],\n",
       "       [0.9223223 ],\n",
       "       [0.985776  ],\n",
       "       [0.1898134 ],\n",
       "       [0.10274769],\n",
       "       [0.33020958],\n",
       "       [0.22608653],\n",
       "       [0.12295375],\n",
       "       [0.10800391],\n",
       "       [0.10318229],\n",
       "       [0.11372082],\n",
       "       [0.121745  ],\n",
       "       [0.04124296],\n",
       "       [0.8091955 ],\n",
       "       [0.12040379],\n",
       "       [0.11677227],\n",
       "       [0.07521631],\n",
       "       [0.9282434 ],\n",
       "       [0.0628054 ],\n",
       "       [0.09860823],\n",
       "       [0.10788132],\n",
       "       [0.7042849 ],\n",
       "       [0.1536736 ],\n",
       "       [0.10247383],\n",
       "       [0.24651067],\n",
       "       [0.9620374 ],\n",
       "       [0.17151767],\n",
       "       [0.9591235 ],\n",
       "       [0.18039508],\n",
       "       [0.47584555],\n",
       "       [0.17890103],\n",
       "       [0.15721746],\n",
       "       [0.10649765],\n",
       "       [0.76702565],\n",
       "       [0.20045932],\n",
       "       [0.12065262],\n",
       "       [0.9781691 ],\n",
       "       [0.93185663],\n",
       "       [0.4939545 ],\n",
       "       [0.13417053],\n",
       "       [0.26324806],\n",
       "       [0.95742375],\n",
       "       [0.48457226],\n",
       "       [0.52276164],\n",
       "       [0.16780484],\n",
       "       [0.6339449 ],\n",
       "       [0.1009783 ],\n",
       "       [0.11784564],\n",
       "       [0.57674354],\n",
       "       [0.16409858],\n",
       "       [0.5832236 ],\n",
       "       [0.93179566],\n",
       "       [0.10733727],\n",
       "       [0.04942134],\n",
       "       [0.44223285],\n",
       "       [0.16819516],\n",
       "       [0.7535936 ],\n",
       "       [0.14149189],\n",
       "       [0.07830175],\n",
       "       [0.33691067],\n",
       "       [0.7277611 ],\n",
       "       [0.12650962],\n",
       "       [0.03253095],\n",
       "       [0.84215194],\n",
       "       [0.04664525],\n",
       "       [0.1194623 ],\n",
       "       [0.14204413],\n",
       "       [0.19623306],\n",
       "       [0.56619287],\n",
       "       [0.10328629],\n",
       "       [0.10261341],\n",
       "       [0.20290753],\n",
       "       [0.63328767],\n",
       "       [0.77750045],\n",
       "       [0.49075925],\n",
       "       [0.16668597],\n",
       "       [0.22784087],\n",
       "       [0.07490394],\n",
       "       [0.9667163 ],\n",
       "       [0.10851675],\n",
       "       [0.14705898],\n",
       "       [0.18164194],\n",
       "       [0.9620494 ],\n",
       "       [0.1588567 ],\n",
       "       [0.07517831],\n",
       "       [0.44510362],\n",
       "       [0.7664908 ],\n",
       "       [0.18040445],\n",
       "       [0.5475747 ],\n",
       "       [0.2057848 ],\n",
       "       [0.11832696],\n",
       "       [0.16603433],\n",
       "       [0.8125014 ],\n",
       "       [0.457449  ]], dtype=float32)"
      ]
     },
     "execution_count": 98,
     "metadata": {},
     "output_type": "execute_result"
    }
   ],
   "source": [
    "model.predict(x_test)"
   ]
  },
  {
   "cell_type": "code",
   "execution_count": 99,
   "metadata": {},
   "outputs": [
    {
     "name": "stdout",
     "output_type": "stream",
     "text": [
      "179/179 [==============================] - 0s 39us/step\n"
     ]
    },
    {
     "data": {
      "text/plain": [
       "0.815642459432506"
      ]
     },
     "execution_count": 99,
     "metadata": {},
     "output_type": "execute_result"
    }
   ],
   "source": [
    "#Accuracy of testing data.\n",
    "model.evaluate(x_test, y_test)[1]"
   ]
  },
  {
   "cell_type": "code",
   "execution_count": 100,
   "metadata": {},
   "outputs": [],
   "source": [
    "#A fair accuracy of about 83.24% with 2 Hidden layer NN.\n",
    "# Accuracy can be further increased with normalisation."
   ]
  },
  {
   "cell_type": "code",
   "execution_count": 101,
   "metadata": {},
   "outputs": [],
   "source": [
    "# Testing for Rose and Jack"
   ]
  },
  {
   "cell_type": "code",
   "execution_count": 104,
   "metadata": {},
   "outputs": [],
   "source": [
    "result = model.predict(test_ds)"
   ]
  },
  {
   "cell_type": "code",
   "execution_count": 106,
   "metadata": {},
   "outputs": [
    {
     "data": {
      "text/plain": [
       "array([[0.0816902 ],\n",
       "       [0.3238597 ],\n",
       "       [0.06048454],\n",
       "       [0.12099668],\n",
       "       [0.3743233 ],\n",
       "       [0.24193297],\n",
       "       [0.6317881 ],\n",
       "       [0.15092899],\n",
       "       [0.66125095],\n",
       "       [0.12051179],\n",
       "       [0.10022454],\n",
       "       [0.15501188],\n",
       "       [0.9377125 ],\n",
       "       [0.0231351 ],\n",
       "       [0.9489363 ],\n",
       "       [0.8902042 ],\n",
       "       [0.10228308],\n",
       "       [0.19024742],\n",
       "       [0.40218332],\n",
       "       [0.57995176],\n",
       "       [0.14986612],\n",
       "       [0.2996373 ],\n",
       "       [0.96733767],\n",
       "       [0.45359254],\n",
       "       [0.7082193 ],\n",
       "       [0.02477506],\n",
       "       [0.96948045],\n",
       "       [0.17581552],\n",
       "       [0.1677052 ],\n",
       "       [0.08024189],\n",
       "       [0.03776431],\n",
       "       [0.13592882],\n",
       "       [0.28619665],\n",
       "       [0.29709095],\n",
       "       [0.3278189 ],\n",
       "       [0.21628535],\n",
       "       [0.48033452],\n",
       "       [0.51402646],\n",
       "       [0.13608639],\n",
       "       [0.19770205],\n",
       "       [0.07265426],\n",
       "       [0.2236807 ],\n",
       "       [0.0526435 ],\n",
       "       [0.81396395],\n",
       "       [0.9514872 ],\n",
       "       [0.13474289],\n",
       "       [0.22985707],\n",
       "       [0.10493834],\n",
       "       [0.97778416],\n",
       "       [0.35250494],\n",
       "       [0.33446124],\n",
       "       [0.18176104],\n",
       "       [0.6835554 ],\n",
       "       [0.66218466],\n",
       "       [0.1543382 ],\n",
       "       [0.15719052],\n",
       "       [0.0756079 ],\n",
       "       [0.13450946],\n",
       "       [0.08418694],\n",
       "       [0.7956    ],\n",
       "       [0.20670423],\n",
       "       [0.11386122],\n",
       "       [0.19618042],\n",
       "       [0.64208657],\n",
       "       [0.54639924],\n",
       "       [0.84837997],\n",
       "       [0.647937  ],\n",
       "       [0.1539962 ],\n",
       "       [0.27938196],\n",
       "       [0.64060915],\n",
       "       [0.6398721 ],\n",
       "       [0.16764797],\n",
       "       [0.48541   ],\n",
       "       [0.30053115],\n",
       "       [0.80064905],\n",
       "       [0.47735283],\n",
       "       [0.1003259 ],\n",
       "       [0.91272   ],\n",
       "       [0.12650962],\n",
       "       [0.6398721 ],\n",
       "       [0.3405424 ],\n",
       "       [0.35004723],\n",
       "       [0.1479954 ],\n",
       "       [0.10022454],\n",
       "       [0.12841211],\n",
       "       [0.09622506],\n",
       "       [0.6371943 ],\n",
       "       [0.51782787],\n",
       "       [0.6324113 ],\n",
       "       [0.4278183 ],\n",
       "       [0.42375693],\n",
       "       [0.10014519],\n",
       "       [0.9373871 ],\n",
       "       [0.1003259 ],\n",
       "       [0.32918027],\n",
       "       [0.13463317],\n",
       "       [0.916586  ],\n",
       "       [0.10744202],\n",
       "       [0.5116243 ],\n",
       "       [0.08519945],\n",
       "       [0.9746295 ],\n",
       "       [0.13949111],\n",
       "       [0.10493834],\n",
       "       [0.12729153],\n",
       "       [0.5158063 ],\n",
       "       [0.12959003],\n",
       "       [0.17499088],\n",
       "       [0.10493834],\n",
       "       [0.1007624 ],\n",
       "       [0.2334137 ],\n",
       "       [0.08706999],\n",
       "       [0.6326208 ],\n",
       "       [0.9820716 ],\n",
       "       [0.643132  ],\n",
       "       [0.75344   ],\n",
       "       [0.18931983],\n",
       "       [0.11440809],\n",
       "       [0.4947789 ],\n",
       "       [0.4112508 ],\n",
       "       [0.7970221 ],\n",
       "       [0.83949065],\n",
       "       [0.08352905],\n",
       "       [0.9776044 ],\n",
       "       [0.11327788],\n",
       "       [0.10493834],\n",
       "       [0.48578718],\n",
       "       [0.15875937],\n",
       "       [0.44794142],\n",
       "       [0.06253057],\n",
       "       [0.14253695],\n",
       "       [0.0903523 ],\n",
       "       [0.20498034],\n",
       "       [0.28759277],\n",
       "       [0.09126379],\n",
       "       [0.04659531],\n",
       "       [0.14236267],\n",
       "       [0.14155418],\n",
       "       [0.15792765],\n",
       "       [0.5057542 ],\n",
       "       [0.06291494],\n",
       "       [0.20241563],\n",
       "       [0.83682704],\n",
       "       [0.3248117 ],\n",
       "       [0.17426696],\n",
       "       [0.16483489],\n",
       "       [0.05079035],\n",
       "       [0.31807178],\n",
       "       [0.15900688],\n",
       "       [0.2236807 ],\n",
       "       [0.11477727],\n",
       "       [0.9453793 ],\n",
       "       [0.11548906],\n",
       "       [0.01634685],\n",
       "       [0.35196605],\n",
       "       [0.13092104],\n",
       "       [0.14209227],\n",
       "       [0.7792735 ],\n",
       "       [0.50424284],\n",
       "       [0.16483489],\n",
       "       [0.39473975],\n",
       "       [0.63229144],\n",
       "       [0.32623827],\n",
       "       [0.8193876 ],\n",
       "       [0.09963747],\n",
       "       [0.06642698],\n",
       "       [0.3588608 ],\n",
       "       [0.2226148 ],\n",
       "       [0.15586895],\n",
       "       [0.9797331 ],\n",
       "       [0.5139387 ],\n",
       "       [0.09999753],\n",
       "       [0.13768806],\n",
       "       [0.12573583],\n",
       "       [0.11499385],\n",
       "       [0.05575806],\n",
       "       [0.80399036],\n",
       "       [0.8766552 ],\n",
       "       [0.151875  ],\n",
       "       [0.69682705],\n",
       "       [0.95811856],\n",
       "       [0.12650962],\n",
       "       [0.33856747],\n",
       "       [0.9645162 ],\n",
       "       [0.10493834],\n",
       "       [0.75838786],\n",
       "       [0.07438242],\n",
       "       [0.8313052 ],\n",
       "       [0.13617656],\n",
       "       [0.04208479],\n",
       "       [0.07054789],\n",
       "       [0.09348467],\n",
       "       [0.22186852],\n",
       "       [0.23519197],\n",
       "       [0.05959502],\n",
       "       [0.44334936],\n",
       "       [0.08508832],\n",
       "       [0.5768847 ],\n",
       "       [0.5161582 ],\n",
       "       [0.18164194],\n",
       "       [0.48029715],\n",
       "       [0.6786849 ],\n",
       "       [0.40882435],\n",
       "       [0.4135188 ],\n",
       "       [0.80721545],\n",
       "       [0.16328268],\n",
       "       [0.2804233 ],\n",
       "       [0.6265954 ],\n",
       "       [0.17226872],\n",
       "       [0.97949135],\n",
       "       [0.13471809],\n",
       "       [0.10311908],\n",
       "       [0.09967016],\n",
       "       [0.428952  ],\n",
       "       [0.700839  ],\n",
       "       [0.17001086],\n",
       "       [0.18255997],\n",
       "       [0.63333815],\n",
       "       [0.3084461 ],\n",
       "       [0.7571731 ],\n",
       "       [0.1003259 ],\n",
       "       [0.86516154],\n",
       "       [0.16780484],\n",
       "       [0.80851024],\n",
       "       [0.16754632],\n",
       "       [0.9774164 ],\n",
       "       [0.49466282],\n",
       "       [0.15035   ],\n",
       "       [0.6324113 ],\n",
       "       [0.05704796],\n",
       "       [0.08949199],\n",
       "       [0.4451519 ],\n",
       "       [0.96365386],\n",
       "       [0.13419032],\n",
       "       [0.10502681],\n",
       "       [0.29185072],\n",
       "       [0.17677937],\n",
       "       [0.13131878],\n",
       "       [0.20036206],\n",
       "       [0.75109583],\n",
       "       [0.9645311 ],\n",
       "       [0.97748953],\n",
       "       [0.72897947],\n",
       "       [0.37735575],\n",
       "       [0.1002191 ],\n",
       "       [0.09091356],\n",
       "       [0.16146316],\n",
       "       [0.8537823 ],\n",
       "       [0.0632951 ],\n",
       "       [0.7970221 ],\n",
       "       [0.52067316],\n",
       "       [0.75275594],\n",
       "       [0.17685448],\n",
       "       [0.44282988],\n",
       "       [0.14367612],\n",
       "       [0.08859105],\n",
       "       [0.09999753],\n",
       "       [0.10493834],\n",
       "       [0.11386468],\n",
       "       [0.82246625],\n",
       "       [0.16752517],\n",
       "       [0.05826625],\n",
       "       [0.1676057 ],\n",
       "       [0.7812151 ],\n",
       "       [0.4733262 ],\n",
       "       [0.14906326],\n",
       "       [0.10022454],\n",
       "       [0.21210036],\n",
       "       [0.09999753],\n",
       "       [0.48033452],\n",
       "       [0.20762171],\n",
       "       [0.31679145],\n",
       "       [0.10493834],\n",
       "       [0.84769565],\n",
       "       [0.5692118 ],\n",
       "       [0.11499075],\n",
       "       [0.8202045 ],\n",
       "       [0.13858233],\n",
       "       [0.06540677],\n",
       "       [0.10827681],\n",
       "       [0.19140725],\n",
       "       [0.5099552 ],\n",
       "       [0.35927176],\n",
       "       [0.6324113 ],\n",
       "       [0.5475747 ],\n",
       "       [0.49771675],\n",
       "       [0.0709194 ],\n",
       "       [0.099801  ],\n",
       "       [0.3800896 ],\n",
       "       [0.11499385],\n",
       "       [0.1003259 ],\n",
       "       [0.26972806],\n",
       "       [0.6268959 ],\n",
       "       [0.11499385],\n",
       "       [0.14826149],\n",
       "       [0.07200718],\n",
       "       [0.12738936],\n",
       "       [0.7036138 ],\n",
       "       [0.08024189],\n",
       "       [0.29438892],\n",
       "       [0.10739256],\n",
       "       [0.09018775],\n",
       "       [0.15301864],\n",
       "       [0.06602234],\n",
       "       [0.14308323],\n",
       "       [0.6324113 ],\n",
       "       [0.91954386],\n",
       "       [0.38748118],\n",
       "       [0.39587379],\n",
       "       [0.1650117 ],\n",
       "       [0.32612643],\n",
       "       [0.19723098],\n",
       "       [0.18052809],\n",
       "       [0.10001394],\n",
       "       [0.6241602 ],\n",
       "       [0.95626676],\n",
       "       [0.64809483],\n",
       "       [0.35107857],\n",
       "       [0.22308457],\n",
       "       [0.12037171],\n",
       "       [0.15183268],\n",
       "       [0.12729153],\n",
       "       [0.15370217],\n",
       "       [0.15792765],\n",
       "       [0.20153269],\n",
       "       [0.7774843 ],\n",
       "       [0.14965713],\n",
       "       [0.70374477],\n",
       "       [0.33331487],\n",
       "       [0.12468993],\n",
       "       [0.20576149],\n",
       "       [0.7157201 ],\n",
       "       [0.24975134],\n",
       "       [0.11499075],\n",
       "       [0.5023065 ],\n",
       "       [0.12040379],\n",
       "       [0.22352389],\n",
       "       [0.11290519],\n",
       "       [0.0706759 ],\n",
       "       [0.22145092],\n",
       "       [0.11499385],\n",
       "       [0.2344396 ],\n",
       "       [0.09007077],\n",
       "       [0.14852263],\n",
       "       [0.7548535 ],\n",
       "       [0.08447164],\n",
       "       [0.5204116 ],\n",
       "       [0.15792765],\n",
       "       [0.6080663 ],\n",
       "       [0.17726426],\n",
       "       [0.8478457 ],\n",
       "       [0.97767943],\n",
       "       [0.16328268],\n",
       "       [0.4188989 ],\n",
       "       [0.07188044],\n",
       "       [0.51923144],\n",
       "       [0.14571568],\n",
       "       [0.90690506],\n",
       "       [0.10021359],\n",
       "       [0.10493834],\n",
       "       [0.3889107 ],\n",
       "       [0.06188434],\n",
       "       [0.8563114 ],\n",
       "       [0.8478457 ],\n",
       "       [0.12099668],\n",
       "       [0.9800188 ],\n",
       "       [0.2426261 ],\n",
       "       [0.09622767],\n",
       "       [0.5181067 ],\n",
       "       [0.97788507],\n",
       "       [0.16029486],\n",
       "       [0.16505986],\n",
       "       [0.87837   ],\n",
       "       [0.16149072],\n",
       "       [0.05585133],\n",
       "       [0.9220507 ],\n",
       "       [0.7929    ],\n",
       "       [0.362891  ],\n",
       "       [0.20274338],\n",
       "       [0.136539  ],\n",
       "       [0.20135035],\n",
       "       [0.10493834],\n",
       "       [0.13330036],\n",
       "       [0.47681764],\n",
       "       [0.43748343],\n",
       "       [0.12481377],\n",
       "       [0.681042  ],\n",
       "       [0.1422922 ],\n",
       "       [0.03637071],\n",
       "       [0.17491643],\n",
       "       [0.21739502],\n",
       "       [0.4555313 ],\n",
       "       [0.9565256 ],\n",
       "       [0.2755342 ],\n",
       "       [0.04865748],\n",
       "       [0.05983238],\n",
       "       [0.9588929 ],\n",
       "       [0.14830838],\n",
       "       [0.96168023],\n",
       "       [0.15873909],\n",
       "       [0.10020014],\n",
       "       [0.8160988 ],\n",
       "       [0.06752372],\n",
       "       [0.9717642 ],\n",
       "       [0.43661782],\n",
       "       [0.17690998],\n",
       "       [0.254559  ],\n",
       "       [0.14715654],\n",
       "       [0.3842371 ],\n",
       "       [0.6322017 ],\n",
       "       [0.45833817],\n",
       "       [0.6324113 ],\n",
       "       [0.97668284],\n",
       "       [0.4896622 ],\n",
       "       [0.1003259 ],\n",
       "       [0.95836556],\n",
       "       [0.06102083],\n",
       "       [0.1003259 ],\n",
       "       [0.1027573 ],\n",
       "       [0.16860478],\n",
       "       [0.5768847 ]], dtype=float32)"
      ]
     },
     "execution_count": 106,
     "metadata": {},
     "output_type": "execute_result"
    }
   ],
   "source": [
    "result"
   ]
  },
  {
   "cell_type": "code",
   "execution_count": 107,
   "metadata": {},
   "outputs": [
    {
     "data": {
      "text/plain": [
       "420"
      ]
     },
     "execution_count": 107,
     "metadata": {},
     "output_type": "execute_result"
    }
   ],
   "source": [
    "len(result)"
   ]
  },
  {
   "cell_type": "code",
   "execution_count": 116,
   "metadata": {},
   "outputs": [],
   "source": [
    "jack_chances = result[len(result)-2][0]*100"
   ]
  },
  {
   "cell_type": "code",
   "execution_count": 117,
   "metadata": {},
   "outputs": [
    {
     "data": {
      "text/plain": [
       "16.8604776263237"
      ]
     },
     "execution_count": 117,
     "metadata": {},
     "output_type": "execute_result"
    }
   ],
   "source": [
    "jack_chances"
   ]
  },
  {
   "cell_type": "code",
   "execution_count": 118,
   "metadata": {},
   "outputs": [],
   "source": [
    "rose_chances = result[len(result)-1][0]*100"
   ]
  },
  {
   "cell_type": "code",
   "execution_count": 119,
   "metadata": {},
   "outputs": [
    {
     "data": {
      "text/plain": [
       "57.68846869468689"
      ]
     },
     "execution_count": 119,
     "metadata": {},
     "output_type": "execute_result"
    }
   ],
   "source": [
    "rose_chances"
   ]
  },
  {
   "cell_type": "code",
   "execution_count": null,
   "metadata": {},
   "outputs": [],
   "source": []
  }
 ],
 "metadata": {
  "kernelspec": {
   "display_name": "Python 3",
   "language": "python",
   "name": "python3"
  },
  "language_info": {
   "codemirror_mode": {
    "name": "ipython",
    "version": 3
   },
   "file_extension": ".py",
   "mimetype": "text/x-python",
   "name": "python",
   "nbconvert_exporter": "python",
   "pygments_lexer": "ipython3",
   "version": "3.6.5"
  }
 },
 "nbformat": 4,
 "nbformat_minor": 2
}
